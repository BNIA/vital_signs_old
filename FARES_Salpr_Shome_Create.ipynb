{
  "nbformat": 4,
  "nbformat_minor": 0,
  "metadata": {
    "colab": {
      "name": "FARES_Salpr_Shome_Create.ipynb",
      "provenance": [],
      "collapsed_sections": [
        "0hHCW-qPMeH6",
        "q8tLzJzcMh74",
        "_3QiG_W4iDl7",
        "EFGK-nZa1eU6",
        "4T2cDUAKEoLo",
        "HxKFicqiEnjq"
      ],
      "authorship_tag": "ABX9TyOjUcQ2cSYZHriYqfKKxAXI",
      "include_colab_link": true
    },
    "kernelspec": {
      "name": "python3",
      "display_name": "Python 3"
    },
    "language_info": {
      "name": "python"
    }
  },
  "cells": [
    {
      "cell_type": "markdown",
      "metadata": {
        "id": "view-in-github",
        "colab_type": "text"
      },
      "source": [
        "<a href=\"https://colab.research.google.com/github/BNIA/VitalSigns/blob/main/FARES_Salpr_Shome_Create.ipynb\" target=\"_parent\"><img src=\"https://colab.research.google.com/assets/colab-badge.svg\" alt=\"Open In Colab\"/></a>"
      ]
    },
    {
      "cell_type": "markdown",
      "metadata": {
        "id": "_jLE_5-I9HzS"
      },
      "source": [
        "# VS Housing Data Intake and Operations\n",
        "\n",
        "> This notebook uses data to generate a portion of BNIA's Vital Signs report."
      ]
    },
    {
      "cell_type": "markdown",
      "metadata": {
        "id": "iSNOAJoTlQr0"
      },
      "source": [
        "This colab and more can be found at https://github.com/BNIA/colabs.\n"
      ]
    },
    {
      "cell_type": "markdown",
      "metadata": {
        "id": "ukxt0JZCsaxc"
      },
      "source": [
        "## Whats Inside?: "
      ]
    },
    {
      "cell_type": "markdown",
      "metadata": {
        "id": "lEdBnKIqli8m"
      },
      "source": [
        "### __The Guided Walkthrough__\n",
        "\n",
        "This notebook was made to create the following Housing Vital Signs Indicators:"
      ]
    },
    {
      "cell_type": "markdown",
      "metadata": {
        "id": "J5fgpFCgNkVt"
      },
      "source": [
        "#### __Indicators Used__\n",
        "\n",
        "- ✅ 29 - __salepr__ -  (Fares) Median Price of Homes Sold\n",
        "- ✅ 31 - __shomes__ -  (Fares) Number of Homes Sold"
      ]
    },
    {
      "cell_type": "markdown",
      "metadata": {
        "id": "-6lDtbLS0a-C"
      },
      "source": [
        "#### __Datasets Used__\n",
        "\n",
        "- ❌ foreclosures.fares_201X __(29-salepr, 31-shomes -> saledate primcatcod landusecod saleamount)__"
      ]
    },
    {
      "cell_type": "markdown",
      "metadata": {
        "id": "TK4HOnSWrpy-"
      },
      "source": [
        "#### __Operations Performed__\n",
        "\n",
        "- Reading in data (points/ geoms)\n",
        "-- Convert lat/lng columns to point coordinates\n",
        "-- Geocoding address to coordinates\n",
        "-- Changing coordinate reference systems\n",
        "- Basic Operations\n",
        "- Saving shape data\n",
        "- Get Polygon Centroids\n",
        "- Working with Points and Polygons\n",
        "-- Map Points and Polygons\n",
        "-- Get Points in Polygons\n",
        "-- Create Choropleths\n",
        "-- Create Heatmaps (KDE?)"
      ]
    },
    {
      "cell_type": "markdown",
      "metadata": {
        "id": "-1RKv4DiMVwo"
      },
      "source": [
        "# Guided Walkthrough"
      ]
    },
    {
      "cell_type": "markdown",
      "metadata": {
        "id": "VERy3CanR6nr"
      },
      "source": [
        "landusecode was discontinued a few years ago\n",
        "\n",
        "Q: The original sql queries say we need to filter on for ['HIGH RISE CONDO', 'CONDOMINIUM', 'RESIDENTIAL (NEC)', 'MID RISE CONDO', 'MULTI FAMILY DWELLING', 'MULTI FAMILY 10 UNITS LESS', 'SFR', 'TOWNHOUSE/ROWHOUSE'] but the column is missing\n",
        "\n",
        "A: as of 3/30/2021 I (Carlos) officially declare that the we will not be using landusecod in our query and are going to be using PROPERTYIN on fields 'CONDOMINIUM', 'SINGLE FAMILY'.\n"
      ]
    },
    {
      "cell_type": "markdown",
      "metadata": {
        "id": "e8-mgsByhrxG"
      },
      "source": [
        "## SETUP Enviornment:"
      ]
    },
    {
      "cell_type": "markdown",
      "metadata": {
        "id": "0hHCW-qPMeH6"
      },
      "source": [
        "### Import Modules"
      ]
    },
    {
      "cell_type": "code",
      "metadata": {
        "id": "WUvcamATFo4G"
      },
      "source": [
        "%%capture\n",
        "! pip install -U -q PyDrive\n",
        "! pip install geopy\n",
        "! pip install geopandas\n",
        "! pip install geoplot\n",
        "! pip install dataplay\n",
        "! pip install matplotlib\n",
        "! pip install psycopg2-binary"
      ],
      "execution_count": null,
      "outputs": []
    },
    {
      "cell_type": "code",
      "metadata": {
        "id": "r0vkoXtZRdJz"
      },
      "source": [
        "%%capture\n",
        "! apt-get install build-dep python-psycopg2\n",
        "! apt-get install libpq-dev\n",
        "! apt-get install libspatialindex-dev"
      ],
      "execution_count": null,
      "outputs": []
    },
    {
      "cell_type": "code",
      "metadata": {
        "id": "gZ17xjOgR8vg"
      },
      "source": [
        "%%capture\n",
        "!pip install rtree\n",
        "!pip install dexplot"
      ],
      "execution_count": null,
      "outputs": []
    },
    {
      "cell_type": "code",
      "metadata": {
        "id": "w9Mcvm-X0gdo"
      },
      "source": [
        "from dataplay.geoms import workWithGeometryData"
      ],
      "execution_count": null,
      "outputs": []
    },
    {
      "cell_type": "code",
      "metadata": {
        "id": "nNOByHFKFo4m"
      },
      "source": [
        "%%capture \n",
        "# These imports will handle everything\n",
        "import os\n",
        "import sys\n",
        "import csv\n",
        "import matplotlib.pyplot as plt\n",
        "import numpy as np\n",
        "import pandas as pd\n",
        "import geopandas as gpd\n",
        "from geopandas import GeoDataFrame\n",
        "import psycopg2\n",
        "import pyproj\n",
        "from pyproj import Proj, transform\n",
        "# conda install -c conda-forge proj4\n",
        "from shapely.geometry import Point\n",
        "from shapely import wkb\n",
        "from shapely.wkt import loads\n",
        "# https://pypi.org/project/geopy/\n",
        "from geopy.geocoders import Nominatim\n",
        "\n",
        "# In case file is KML, enable support\n",
        "import fiona\n",
        "fiona.drvsupport.supported_drivers['kml'] = 'rw'\n",
        "fiona.drvsupport.supported_drivers['KML'] = 'rw'"
      ],
      "execution_count": null,
      "outputs": []
    },
    {
      "cell_type": "code",
      "metadata": {
        "id": "evj9GJLdSlxF"
      },
      "source": [
        "from IPython.display import clear_output\n",
        "clear_output(wait=True)"
      ],
      "execution_count": null,
      "outputs": []
    },
    {
      "cell_type": "code",
      "metadata": {
        "id": "uTcb3bD84mSA"
      },
      "source": [
        "import ipywidgets as widgets\n",
        "from ipywidgets import interact, interact_manual"
      ],
      "execution_count": null,
      "outputs": []
    },
    {
      "cell_type": "markdown",
      "metadata": {
        "id": "q8tLzJzcMh74"
      },
      "source": [
        "### Configure Enviornment"
      ]
    },
    {
      "cell_type": "code",
      "metadata": {
        "id": "OuH4mBeYCUqU"
      },
      "source": [
        "# This will just beautify the output\n",
        "\n",
        "pd.set_option('display.expand_frame_repr', False)\n",
        "pd.set_option('display.precision', 2)\n",
        "from IPython.core.interactiveshell import InteractiveShell\n",
        "InteractiveShell.ast_node_interactivity = \"all\"\n",
        "\n",
        "# pd.set_option('display.expand_frame_repr', False)\n",
        "# pd.set_option('display.precision', 2)\n",
        "# pd.reset_option('max_colwidth')\n",
        "pd.set_option('max_colwidth', 20)\n",
        "# pd.reset_option('max_colwidth')"
      ],
      "execution_count": null,
      "outputs": []
    },
    {
      "cell_type": "markdown",
      "metadata": {
        "id": "g-eNzM614b3K"
      },
      "source": [
        "## Prep Datasets"
      ]
    },
    {
      "cell_type": "markdown",
      "metadata": {
        "id": "_3QiG_W4iDl7"
      },
      "source": [
        "#### TPOP CSA and Baltimore"
      ]
    },
    {
      "cell_type": "markdown",
      "metadata": {
        "id": "tlQvkkbaB0ZI"
      },
      "source": [
        "Get Baltimore"
      ]
    },
    {
      "cell_type": "code",
      "metadata": {
        "id": "-xeV9WHdOhBv"
      },
      "source": [
        "#collapse_output\n",
        "#collapse_input\n",
        "csa = \"https://services1.arcgis.com/mVFRs7NF4iFitgbY/ArcGIS/rest/services/Tpop/FeatureServer/0/query?where=1%3D1&outFields=*&returnGeometry=true&f=pgeojson\"\n",
        "csa = gpd.read_file(csa);\n",
        "csa.head(1)"
      ],
      "execution_count": null,
      "outputs": []
    },
    {
      "cell_type": "markdown",
      "metadata": {
        "id": "QyBS5PlHB1db"
      },
      "source": [
        "Get CSA"
      ]
    },
    {
      "cell_type": "code",
      "metadata": {
        "id": "2FLpVhiPUAck"
      },
      "source": [
        "url2 = \"https://services1.arcgis.com/mVFRs7NF4iFitgbY/ArcGIS/rest/services/Tpop/FeatureServer/1/query?where=1%3D1&outFields=*&returnGeometry=true&f=pgeojson\"\n",
        "csa2 = gpd.read_file(url2);\n",
        "csa2['CSA2010'] = csa2['City_1'] \n",
        "csa2['OBJECTID'] = 56 \n",
        "csa2 = csa2.drop(columns=['City_1'])\n",
        "csa2.head()"
      ],
      "execution_count": null,
      "outputs": []
    },
    {
      "cell_type": "markdown",
      "metadata": {
        "id": "RiT-Pc1jgZJI"
      },
      "source": [
        "Append do no append Bcity. We put it on the Bottom of the df because when performing the ponp it returns only the last matching columns CSA Label. "
      ]
    },
    {
      "cell_type": "code",
      "metadata": {
        "id": "RWZigszHUWm5"
      },
      "source": [
        "# csa = pd.concat([csa2, csa], ignore_index=True)\n",
        "csa = csa.append(csa2).reset_index(drop=True)"
      ],
      "execution_count": null,
      "outputs": []
    },
    {
      "cell_type": "code",
      "metadata": {
        "id": "oH6C5OecjBsy"
      },
      "source": [
        "csa.head(3)"
      ],
      "execution_count": null,
      "outputs": []
    },
    {
      "cell_type": "code",
      "metadata": {
        "id": "WLpXYhJHB_rt"
      },
      "source": [
        "csa.tail(3)"
      ],
      "execution_count": null,
      "outputs": []
    },
    {
      "cell_type": "code",
      "metadata": {
        "id": "wpZDcRVkk9SJ"
      },
      "source": [
        "csa.head()"
      ],
      "execution_count": null,
      "outputs": []
    },
    {
      "cell_type": "code",
      "metadata": {
        "id": "wG_g3sp2J2pq"
      },
      "source": [
        "csa.drop(columns=['Shape__Area', 'Shape__Length', 'OBJECTID'], axis=1).to_file(\"BCity_and_CSA.geojson\", driver='GeoJSON')"
      ],
      "execution_count": null,
      "outputs": []
    },
    {
      "cell_type": "markdown",
      "metadata": {
        "id": "1yN6qfuBLSeu"
      },
      "source": [
        "### Fares"
      ]
    },
    {
      "cell_type": "markdown",
      "metadata": {
        "id": "9mXKKme1e9_K"
      },
      "source": [
        "#### Create Fares"
      ]
    },
    {
      "cell_type": "code",
      "metadata": {
        "id": "X2QycwBARUL1"
      },
      "source": [
        "year = '19'"
      ],
      "execution_count": null,
      "outputs": []
    },
    {
      "cell_type": "code",
      "metadata": {
        "id": "JEHwgbL4JKhg"
      },
      "source": [
        "original = gpd.read_file(\"FARES_20\"+year+\"_CSACity.shp\");"
      ],
      "execution_count": null,
      "outputs": []
    },
    {
      "cell_type": "code",
      "metadata": {
        "id": "4nY9fic40SMR"
      },
      "source": [
        "original.rename(columns={ 'CSA':'CSA2010', 'BaltCity':'InBaltimore'}, inplace=True)"
      ],
      "execution_count": null,
      "outputs": []
    },
    {
      "cell_type": "code",
      "metadata": {
        "id": "rZ2ZSeobuI2O"
      },
      "source": [
        "original.head()"
      ],
      "execution_count": null,
      "outputs": []
    },
    {
      "cell_type": "code",
      "metadata": {
        "id": "_o5V7CXn_0l8"
      },
      "source": [
        "original.PROPERTYIN.unique()"
      ],
      "execution_count": null,
      "outputs": []
    },
    {
      "cell_type": "code",
      "metadata": {
        "id": "PtehEUa0_55I"
      },
      "source": [
        "original.STATEUSEDE.unique()"
      ],
      "execution_count": null,
      "outputs": []
    },
    {
      "cell_type": "code",
      "metadata": {
        "id": "giIBN282AEQk"
      },
      "source": [
        "oldqueri = \"HIGH RISE CONDO|CONDOMINIUM|RESIDENTIAL (NEC)|MID RISE CONDO|MULTI FAMILY DWELLING|MULTI FAMILY 10 UNITS LESS|SFR|TOWNHOUSE/ROWHOUSE\""
      ],
      "execution_count": null,
      "outputs": []
    },
    {
      "cell_type": "code",
      "metadata": {
        "id": "iNsgJPWZoydy"
      },
      "source": [
        "original.sort_values(by=['LANDUSECOD'])['LANDUSECOD'].tail()"
      ],
      "execution_count": null,
      "outputs": []
    },
    {
      "cell_type": "code",
      "metadata": {
        "id": "uKJ5BtONK-Ns"
      },
      "source": [
        "# Convert to EPSG:4326\n",
        "# fares.crs\n",
        "original = original.to_crs(epsg=4326)"
      ],
      "execution_count": null,
      "outputs": []
    },
    {
      "cell_type": "markdown",
      "metadata": {
        "id": "VQC_OE-9tCLs"
      },
      "source": [
        "Original Dataset"
      ]
    },
    {
      "cell_type": "code",
      "metadata": {
        "id": "mGq6t5yppn-G"
      },
      "source": [
        "original.plot()"
      ],
      "execution_count": null,
      "outputs": []
    },
    {
      "cell_type": "markdown",
      "metadata": {
        "id": "BKINeI4LuZ3p"
      },
      "source": [
        "Remove these for not being either a CSA or Baltimore"
      ]
    },
    {
      "cell_type": "code",
      "metadata": {
        "id": "IjBo8tv8s7Dn"
      },
      "source": [
        "removeThese = original[ original['CSA2010'].isnull() & original['InBaltimore'].isnull()  ]\n",
        "removeThese.plot()"
      ],
      "execution_count": null,
      "outputs": []
    },
    {
      "cell_type": "markdown",
      "metadata": {
        "id": "SOXB1w8XtEeE"
      },
      "source": [
        "Keep These"
      ]
    },
    {
      "cell_type": "markdown",
      "metadata": {
        "id": "h6D-HPW11KIY"
      },
      "source": [
        ""
      ]
    },
    {
      "cell_type": "code",
      "metadata": {
        "id": "vRcdLUNWhOBt"
      },
      "source": [
        "df = original[ original['CSA2010'].notnull() | original['InBaltimore'].notnull()  ]\n",
        "df.plot()"
      ],
      "execution_count": null,
      "outputs": []
    },
    {
      "cell_type": "code",
      "metadata": {
        "id": "cz7Pr7qFoT-8"
      },
      "source": [
        "print('After filtering records where a CSA or Baltimore geo-code match Exists')\n",
        "print( 'All rows Before Filter: ', original.shape[0] ) # rows, columns\n",
        "print( '# w BCity.isnull: ', df.InBaltimore.isnull().sum() ); bmorow = df[ df.CSA2010.isnull()  ].shape[0]\n",
        "print( '# w CSA2010.isnull: ', bmorow ); csarow = df[ df.CSA2010.notnull()  ].shape[0] \n",
        "print( '# w CSA2010.notnull: ', csarow ); \n",
        "print( '# rows After Filter: ', df.shape[0],'==',csarow,'+',bmorow,'==', csarow + bmorow); "
      ],
      "execution_count": null,
      "outputs": []
    },
    {
      "cell_type": "code",
      "metadata": {
        "id": "gjTdZWcrmIUy"
      },
      "source": [
        "# add baltimore city\n",
        "df.CSA2010 = df.CSA2010.fillna('Baltimore City')"
      ],
      "execution_count": null,
      "outputs": []
    },
    {
      "cell_type": "code",
      "metadata": {
        "id": "ntkgHH5vqFRA"
      },
      "source": [
        "df.head(1)"
      ],
      "execution_count": null,
      "outputs": []
    },
    {
      "cell_type": "code",
      "metadata": {
        "id": "OCpPicOOmvTg"
      },
      "source": [
        "df.to_csv('ponp_gdf'+year+'.csv', index=False) "
      ],
      "execution_count": null,
      "outputs": []
    },
    {
      "cell_type": "code",
      "metadata": {
        "id": "VEmkBIdpdQsT"
      },
      "source": [
        "# list(fares.columns)\n",
        "print(df.columns.values)"
      ],
      "execution_count": null,
      "outputs": []
    },
    {
      "cell_type": "code",
      "metadata": {
        "id": "d8Ao-cgF1lCB"
      },
      "source": [
        "fares = df[['SALEDATE', 'SALEAMOUNT', 'LANDUSECOD', 'geometry', 'PRIMARYCAT', 'PROPERTYIN', 'CSA2010']]\n",
        "fares.head()"
      ],
      "execution_count": null,
      "outputs": []
    },
    {
      "cell_type": "markdown",
      "metadata": {
        "id": "EFGK-nZa1eU6"
      },
      "source": [
        "#### Not Used"
      ]
    },
    {
      "cell_type": "code",
      "metadata": {
        "id": "zGRDE0prK-Nx"
      },
      "source": [
        "# Convert Geom to Coords\n",
        "# fares[\"x\"] = fares.centroid.map(lambda p: p.x)\n",
        "# fares[\"y\"] = fares.centroid.map(lambda p: p.y)\n",
        "\n",
        "fares['x'] = fares.geometry.x\n",
        "fares['y'] = fares.geometry.y\n",
        "# fares.head(5)\n",
        "\n",
        "fares = fares[ fares.geometry.y > 38 ]\n",
        "fares = fares[ fares.geometry.x < -70 ]\n",
        "fares = fares[ fares.geometry.x > -80 ]"
      ],
      "execution_count": null,
      "outputs": []
    },
    {
      "cell_type": "code",
      "metadata": {
        "id": "07ho5f-8K-N4"
      },
      "source": [
        "# Reference: All Points\n",
        "base = csa.plot(color='white', edgecolor='black')\n",
        "fares.plot(ax=base, marker='o', color='green', markersize=5);"
      ],
      "execution_count": null,
      "outputs": []
    },
    {
      "cell_type": "code",
      "metadata": {
        "id": "_8kSfx99l_iO"
      },
      "source": [
        "fares = fares[['SALEDATE', 'SALEAMOUNT', 'LANDUSECOD', 'geometry']]\n",
        "fares.head()"
      ],
      "execution_count": null,
      "outputs": []
    },
    {
      "cell_type": "code",
      "metadata": {
        "id": "30kIXp4SK-N-"
      },
      "source": [
        "# Get CSA Labels for all Points.\n",
        "faresCsa = workWithGeometryData( \n",
        "     method='ponp', df=fares, polys=csa, ptsCoordCol='geometry', \n",
        "     polygonsCoordCol='geometry', polygonsLabel='CSA2010'\n",
        ")\n",
        "faresCsa = faresCsa.drop('geometry',axis=1) \n",
        "faresCsa.to_csv('ponp_fares.csv', index=False)\n",
        "faresCsa.head(1)"
      ],
      "execution_count": null,
      "outputs": []
    },
    {
      "cell_type": "markdown",
      "metadata": {
        "id": "PF7NoFzRLshU"
      },
      "source": [
        "# Indicators"
      ]
    },
    {
      "cell_type": "code",
      "metadata": {
        "id": "NAPfhluS7ktp"
      },
      "source": [
        "faresCsa = fares.copy()"
      ],
      "execution_count": null,
      "outputs": []
    },
    {
      "cell_type": "code",
      "metadata": {
        "id": "nQ3ioF9272hf"
      },
      "source": [
        "faresCsa.dtypes"
      ],
      "execution_count": null,
      "outputs": []
    },
    {
      "cell_type": "code",
      "metadata": {
        "id": "WKZp_Er8_nV9"
      },
      "source": [
        "faresCsa.LANDUSECOD.unique()"
      ],
      "execution_count": null,
      "outputs": []
    },
    {
      "cell_type": "markdown",
      "metadata": {
        "id": "4T2cDUAKEoLo"
      },
      "source": [
        "### 29 - salepr (Fares)"
      ]
    },
    {
      "cell_type": "code",
      "metadata": {
        "id": "OEVVfQh-FqjW"
      },
      "source": [
        "# salepr - Median Price of Homes Sold\n",
        "\n",
        "# https://services1.arcgis.com/mVFRs7NF4iFitgbY/arcgis/rest/services/salepr/FeatureServer/layers\n",
        "\n",
        "# Numerator: Fares\n",
        "# Denominator: None\n",
        "\n",
        "long_Description: \"\"\"\n",
        "The median home sales price is the middle value of the prices for which homes are sold (both market and private transactions) \n",
        "within a calendar year. The median value is used as opposed to the average so that both extremely high and extremely low prices \n",
        "do not distort the prices for which homes are sold. This measure does not take into account the assessed value of a property.\n",
        "\"\"\"\n",
        "\n",
        "salepr_SQL = \"\"\" \n",
        "SELECT fullbounds.csa, sQuery.Result \n",
        "  FROM boundaries.csa2010 as fullbounds \n",
        "    LEFT JOIN (SELECT bounds.csa AS Boundary, median(Tables.saleamount::numeric(10,2))::numeric(10,2) as Result\n",
        "      FROM housing.fares_2016 AS Tables\n",
        "      JOIN boundaries.csa2010 AS bounds \n",
        "      ON ST_Contains(bounds.the_geom, Tables.the_geom)\n",
        "        where (landusecod LIKE 'HIGH RISE CONDO' OR \n",
        "               landusecod LIKE 'CONDOMINIUM' OR \n",
        "               landusecod LIKE 'RESIDENTIAL (NEC)' OR \n",
        "               landusecod LIKE 'MID RISE CONDO' OR \n",
        "               landusecod LIKE 'MULTI FAMILY DWELLING' OR \n",
        "               landusecod LIKE 'MULTI FAMILY 10 UNITS LESS' OR \n",
        "               landusecod LIKE 'SFR' OR \n",
        "               landusecod LIKE 'TOWNHOUSE/ROWHOUSE'\n",
        "          ) AND \n",
        "          ( primcatcod LIKE 'ARMS LENGTH') AND \n",
        "          ( saledate between '20160101' and '20161231') AND \n",
        "          ( saleamount > 1000 )\n",
        "GROUP BY Boundary\n",
        "ORDER BY Boundary) as sQuery\n",
        "ON fullbounds.csa = sQuery.Boundary\n",
        "ORDER BY fullbounds.csa \n",
        "\"\"\"\n",
        "\n",
        "salepr_translation = \"\"\"\n",
        "Select median saleamount from CSA Where ( \n",
        "  ( landusecod LIKE ['HIGH RISE CONDO', 'CONDOMINIUM', 'RESIDENTIAL (NEC)', 'MID RISE CONDO',\n",
        "                     'MULTI FAMILY DWELLING', 'MULTI FAMILY 10 UNITS LESS', 'SFR', 'TOWNHOUSE/ROWHOUSE'] ) & \n",
        "  ( primcatcod LIKE 'ARMS LENGTH') & \n",
        "  ( '20160101' < saledate > '20161231') & \n",
        "  ( saleamount > 1000) )\n",
        "\"\"\""
      ],
      "execution_count": null,
      "outputs": []
    },
    {
      "cell_type": "code",
      "metadata": {
        "id": "FOQ1nEQzZiP4"
      },
      "source": [
        "# Copy the Data\n",
        "faresCsa = fares.copy()\n",
        "faresCsa['SALEDATE'] = pd.to_datetime(faresCsa['SALEDATE'], format='%Y%m%d') # ,infer_datetime_format=True)\n",
        "\n",
        "# Query the Data\n",
        "salepr = faresCsa[ \n",
        "  (faresCsa['PROPERTYIN'].str.contains('CONDOMINIUM|SINGLE FAMILY', regex=True) ) \n",
        "& (faresCsa['SALEDATE'] >= '20'+year+'-01-01') \n",
        "& (faresCsa['SALEDATE'] <= '20'+year+'-12-31')\n",
        "& (faresCsa['SALEAMOUNT'] > 1000 )  \n",
        "& (faresCsa['PRIMARYCAT'] == 'ARMS LENGTH' )  \n",
        "]\n",
        "\n",
        "# Prep and Save the Filtered Records\n",
        "salepr.rename(columns={ 'SALEAMOUNT':'29-salepr'+year}, inplace=True)\n",
        "salepr.drop(columns=['geometry', 'PRIMARYCAT', 'PROPERTYIN', 'LANDUSECOD', 'SALEDATE' ], inplace=True)\n",
        "salepr.to_csv('fares_filtered_'+year+'.csv')\n",
        "\n",
        "# *Special*: # UPDATE HERE AND THEN GROUP\n",
        "salepr = salepr.append({'CSA2010': 'Baltimore City' , '29-salepr'+year : salepr['29-salepr'+year].median() } , ignore_index=True)\n",
        "salepr = salepr.groupby('CSA2010').median(numeric_only=True) \n",
        "\n",
        "# Make sure ALL csas and BaltimoreCity are included and sorted.\n",
        "salepr = csa.merge( salepr, left_on='CSA2010', right_on='CSA2010', how='outer' ) \n",
        "salepr.drop(columns=['OBJECTID', 'Shape__Length', 'Shape__Area', 'geometry' ], inplace=True)\n",
        "\n",
        "# *SPECIAL* Update the baltimore CSA.\n",
        "# salepr.at[55] = dft.sum(numeric_only=True)\n",
        "# salepr.at[55, 'CSA2010'] = 'Baltimore City'\n",
        "\n",
        "display( salepr.head(2) ) \n",
        "salepr.tail(2)\n",
        "\n",
        "# & (faresCsa['PRIMCATCOD'] == 'ARMS LENGTH' )  \n",
        "# faresCsa['LANDUSECOD'].str.contains('HIGH RISE CONDO|CONDOMINIUM|RESIDENTIAL (NEC)|MID RISE CONDO|MULTI FAMILY DWELLING|MULTI FAMILY 10 UNITS LESS|SFR|TOWNHOUSE/ROWHOUSE', regex=False) "
      ],
      "execution_count": null,
      "outputs": []
    },
    {
      "cell_type": "code",
      "metadata": {
        "id": "vbFIbz1gjZKo"
      },
      "source": [
        "# faresCsa[ (faresCSA['CSA2010']=='Midtown') & (faresCsa['SALEAMOUNT'] > 1000) & (faresCsa['PRIMARYCAT'] == 'ARMS LENGTH' ) &  (faresCsa['PROPERTYIN'].str.contains('CONDOMINIUM|SINGLE FAMILY', regex=True) )  ].head(3)"
      ],
      "execution_count": null,
      "outputs": []
    },
    {
      "cell_type": "code",
      "metadata": {
        "id": "1ieuoC-3i1Q9"
      },
      "source": [
        "# faresCsa[ (faresCSA['CSA2010']=='Midtown') & (faresCsa['SALEAMOUNT'] > 1000) ].head(3)"
      ],
      "execution_count": null,
      "outputs": []
    },
    {
      "cell_type": "markdown",
      "metadata": {
        "id": "HxKFicqiEnjq"
      },
      "source": [
        "### 31 - shomes - (Fares)"
      ]
    },
    {
      "cell_type": "code",
      "metadata": {
        "id": "UoIZtu6lF9hD"
      },
      "source": [
        "# shomes - Number of Homes Sold\n",
        "\n",
        "# https://services1.arcgis.com/mVFRs7NF4iFitgbY/arcgis/rest/services/shomes/FeatureServer/layers\n",
        "\n",
        "# Numerator: housing.fares_201X\n",
        "# Denominator: None\n",
        "\n",
        "long_Description: \"\"\"The total number of residential properties sold in a calendar year.\"\"\"\n",
        "\n",
        "_SQL = \"\"\"\n",
        "  with tbl AS (\n",
        "    select ( sum( case \n",
        "      when ( \n",
        "        landusecod = 'HIGH RISE CONDO' OR \n",
        "        landusecod = 'CONDOMINIUM' OR \n",
        "        landusecod = 'RESIDENTIAL (NEC)' OR \n",
        "        landusecod = 'MID RISE CONDO' OR \n",
        "        landusecod = 'MULTI FAMILY DWELLING' OR \n",
        "        landusecod = 'MULTI FAMILY 10 UNITS LESS' OR \n",
        "        landusecod = 'SFR' OR \n",
        "        landusecod = 'TOWNHOUSE/ROWHOUSE'\n",
        "      ) AND \n",
        "      (primcatcod = 'ARMS LENGTH') AND \n",
        "      (saledate between '20160101' and '20161231') AND \n",
        "      (saleamount > 1000) then 1 else 0 end)::numeric ) as result, csa\n",
        "        from vital_signs.match_csas_and_bc_by_geom('housing.fares_2016', 'gid', 'the_geom') a\n",
        "          left join housing.fares_2016 b on a.gid = b.gid group by csa\n",
        "   )\n",
        "   update vital_signs.data\n",
        "   set shomes = result from tbl where data.csa = tbl.csa and data_year = '2016'; \n",
        "\"\"\"\n",
        "\n",
        "_translation = \"\"\"\n",
        "Sum records where \n",
        "      landusecod in ['HIGH RISE CONDO', 'CONDOMINIUM', 'RESIDENTIAL (NEC)', 'MID RISE CONDO', 'MULTI FAMILY DWELLING', 'MULTI FAMILY 10 UNITS LESS', 'SFR', 'TOWNHOUSE/ROWHOUSE']\n",
        "      AND (primcatcod = 'ARMS LENGTH') \n",
        "      AND (saledate between '20160101' and '20161231') \n",
        "      AND (saleamount > 1000) \n",
        "\"\"\""
      ],
      "execution_count": null,
      "outputs": []
    },
    {
      "cell_type": "code",
      "metadata": {
        "id": "6KC2OqDQ2Gu7"
      },
      "source": [
        "# Copy the Data\n",
        "faresCsa = fares.copy()\n",
        "faresCsa['SALEDATE'] = pd.to_datetime(faresCsa['SALEDATE'], format='%Y%m%d') # ,infer_datetime_format=True) \n",
        "\n",
        "# Query the Data\n",
        "shomes = faresCsa[ \n",
        "  (faresCsa['PROPERTYIN'].str.contains('CONDOMINIUM|SINGLE FAMILY', regex=True) ) \n",
        "& (faresCsa['SALEDATE'] >= '20'+year+'-01-01') \n",
        "& (faresCsa['SALEDATE'] <= '20'+year+'-12-31')\n",
        "& (faresCsa['SALEAMOUNT'] > 1000 )  \n",
        "& (faresCsa['PRIMARYCAT'] == 'ARMS LENGTH' )  \n",
        "]\n",
        "shomes['31-shomes'+year] = 1\n",
        "shomes.head(1)\n",
        "\n",
        "# Prep and Save the Filtered Records\n",
        "shomes['31-shomes'+year] = 1\n",
        "# shomes.rename(columns={ 'SALEAMOUNT':'29-shomes'+year}, inplace=True)\n",
        "shomes.drop(columns=['geometry', 'PRIMARYCAT', 'PROPERTYIN', 'LANDUSECOD', 'SALEDATE', 'SALEAMOUNT'], inplace=True)\n",
        "shomes.to_csv('fares_filtered_'+year+'.csv')\n",
        "\n",
        "# *Special*: # UPDATE HERE AND THEN GROUP\n",
        "# shomes = shomes.append({'CSA2010': 'Baltimore City', '31-shomes'+year : shomes['31-shomes'+year].sum() } , ignore_index=True)\n",
        "shomes = shomes.groupby('CSA2010').sum(numeric_only=True) \n",
        "\n",
        "# Make sure ALL csas and BaltimoreCity are included and sorted.\n",
        "shomes = csa.merge( shomes, left_on='CSA2010', right_on='CSA2010', how='outer' ) \n",
        "shomes.drop(columns=['OBJECTID', 'Shape__Length', 'Shape__Area', 'geometry' ], inplace=True)\n",
        "\n",
        "# *SPECIAL* Update the baltimore CSA.\n",
        "shomes.at[55] = shomes.sum(numeric_only=True)\n",
        "shomes.at[55, 'CSA2010'] = 'Baltimore City'\n",
        "\n",
        "display( shomes.head(2) ) \n",
        "shomes.tail(2)\n",
        "\n",
        "# & (faresCsa['PRIMCATCOD'] == 'ARMS LENGTH' )  \n",
        "# faresCsa['LANDUSECOD'].str.contains('HIGH RISE CONDO|CONDOMINIUM|RESIDENTIAL (NEC)|MID RISE CONDO|MULTI FAMILY DWELLING|MULTI FAMILY 10 UNITS LESS|SFR|TOWNHOUSE/ROWHOUSE', regex=False) "
      ],
      "execution_count": null,
      "outputs": []
    },
    {
      "cell_type": "markdown",
      "metadata": {
        "id": "xrrLYoOF60hv"
      },
      "source": [
        "Merge and Save Both"
      ]
    },
    {
      "cell_type": "code",
      "metadata": {
        "id": "PUi0z-aZ2S5C"
      },
      "source": [
        "shomes.merge(salepr, left_on='CSA2010', right_on='CSA2010' ).to_csv('FARES'+year+'.csv', index=True, index_label='CSA2010')"
      ],
      "execution_count": null,
      "outputs": []
    },
    {
      "cell_type": "code",
      "metadata": {
        "id": "bgt0xQ-y7FU6"
      },
      "source": [
        ""
      ],
      "execution_count": null,
      "outputs": []
    }
  ]
}