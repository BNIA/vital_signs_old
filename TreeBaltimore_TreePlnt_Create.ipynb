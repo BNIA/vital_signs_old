{
  "nbformat": 4,
  "nbformat_minor": 0,
  "metadata": {
    "colab": {
      "name": "TreeBaltimore_TreePlnt_Create.ipynb",
      "provenance": [],
      "collapsed_sections": [],
      "authorship_tag": "ABX9TyP7toaEguuy6NwoR5JFtWLh",
      "include_colab_link": true
    },
    "kernelspec": {
      "name": "python3",
      "display_name": "Python 3"
    }
  },
  "cells": [
    {
      "cell_type": "markdown",
      "metadata": {
        "id": "view-in-github",
        "colab_type": "text"
      },
      "source": [
        "<a href=\"https://colab.research.google.com/github/BNIA/VitalSigns/blob/main/TreeBaltimore_TreePlnt_Create.ipynb\" target=\"_parent\"><img src=\"https://colab.research.google.com/assets/colab-badge.svg\" alt=\"Open In Colab\"/></a>"
      ]
    },
    {
      "cell_type": "markdown",
      "metadata": {
        "id": "1uPMyhQiiBO0"
      },
      "source": [
        "# Guided Walkthrough"
      ]
    },
    {
      "cell_type": "markdown",
      "metadata": {
        "id": "Z8urONZKiBO0"
      },
      "source": [
        "## SETUP:"
      ]
    },
    {
      "cell_type": "markdown",
      "metadata": {
        "id": "LzLvFz42iBO0"
      },
      "source": [
        "### Import Modules"
      ]
    },
    {
      "cell_type": "code",
      "metadata": {
        "id": "bWhdtebqiBO0",
        "cellView": "form"
      },
      "source": [
        "# @title Run: Install Modules"
      ],
      "execution_count": null,
      "outputs": []
    },
    {
      "cell_type": "code",
      "metadata": {
        "id": "u-_gdiWtiBO0"
      },
      "source": [
        "%%capture\n",
        "! pip install geopy\n",
        "! pip install geopandas\n",
        "! pip install geoplot\n",
        "! pip install dataplay"
      ],
      "execution_count": null,
      "outputs": []
    },
    {
      "cell_type": "code",
      "metadata": {
        "id": "aE6f4ei9icmz"
      },
      "source": [
        "!pip install dexplot"
      ],
      "execution_count": null,
      "outputs": []
    },
    {
      "cell_type": "code",
      "metadata": {
        "id": "uHSXDrpGiBO1"
      },
      "source": [
        "%%capture\n",
        "# export\n",
        "# @title Run: Import Modules\n",
        "\n",
        "# These imports will handle everything\n",
        "import os\n",
        "import sys\n",
        "import csv\n",
        "from IPython.display import clear_output\n",
        "import matplotlib.pyplot as plt\n",
        "import numpy as np\n",
        "import pandas as pd\n",
        "import geopandas as gpd\n",
        "from geopandas import GeoDataFrame\n",
        "import psycopg2\n",
        "import pyproj\n",
        "from pyproj import Proj, transform\n",
        "# conda install -c conda-forge proj4\n",
        "from shapely.geometry import Point\n",
        "from shapely.geometry import LineString\n",
        "from shapely import wkb\n",
        "from shapely.wkt import loads\n",
        "# https://pypi.org/project/geopy/\n",
        "from geopy.geocoders import Nominatim\n",
        "import folium\n",
        "from folium import plugins\n",
        "\n",
        "from dataplay.merge import mergeDatasets \n",
        "\n",
        "import dexplot as dxp\n",
        "\n",
        "# In case file is KML, enable support\n",
        "import fiona\n",
        "fiona.drvsupport.supported_drivers['kml'] = 'rw'\n",
        "fiona.drvsupport.supported_drivers['KML'] = 'rw'"
      ],
      "execution_count": null,
      "outputs": []
    },
    {
      "cell_type": "markdown",
      "metadata": {
        "id": "pWRfd8FRiBO2"
      },
      "source": [
        "### Configure Enviornment"
      ]
    },
    {
      "cell_type": "code",
      "metadata": {
        "id": "cpZMd4SyiBO2"
      },
      "source": [
        "# This will just beautify the output\n",
        "\n",
        "pd.set_option('display.expand_frame_repr', False)\n",
        "pd.set_option('display.precision', 2)\n",
        "from IPython.core.interactiveshell import InteractiveShell\n",
        "InteractiveShell.ast_node_interactivity = \"all\"\n",
        "\n",
        "# pd.set_option('display.expand_frame_repr', False)\n",
        "# pd.set_option('display.precision', 2)\n",
        "# pd.reset_option('max_colwidth')\n",
        "pd.set_option('max_colwidth', 50)\n",
        "# pd.reset_option('max_colwidth')"
      ],
      "execution_count": null,
      "outputs": []
    },
    {
      "cell_type": "code",
      "metadata": {
        "id": "ZYq2-gRLiBO2"
      },
      "source": [
        "#hide\n",
        "# %matplotlib inline\n",
        "# !jupyter nbextension enable --py widgetsnbextension"
      ],
      "execution_count": null,
      "outputs": []
    },
    {
      "cell_type": "markdown",
      "metadata": {
        "id": "Pm3nEXKpSmQm"
      },
      "source": [
        "## Read in df"
      ]
    },
    {
      "cell_type": "code",
      "metadata": {
        "id": "g1JrNtLnSpQl"
      },
      "source": [
        "csa_gdf = gpd.read_file(\"https://services1.arcgis.com/mVFRs7NF4iFitgbY/ArcGIS/rest/services/Tpop/FeatureServer/0/query?where=1%3D1&outFields=*&returnGeometry=true&f=pgeojson\")\n",
        "csa_gdf.plot(column='tpop10')"
      ],
      "execution_count": null,
      "outputs": []
    },
    {
      "cell_type": "code",
      "metadata": {
        "id": "EWQ1APkwSww3"
      },
      "source": [
        "csa_gdf.head()"
      ],
      "execution_count": null,
      "outputs": []
    },
    {
      "cell_type": "markdown",
      "metadata": {
        "id": "nHAig4kSjgi8"
      },
      "source": [
        "### (Optional) GoogleDrive Access"
      ]
    },
    {
      "cell_type": "code",
      "metadata": {
        "id": "sxGAFjlFzv35"
      },
      "source": [
        "# (Optional) Run this cell to gain access to Google Drive (Colabs only) \n",
        "from google.colab import drive\n",
        "\n",
        "# Colabs operates in a virtualized enviornment\n",
        "# Colabs default directory is at ~/content.\n",
        "# We mount Drive into a temporary folder at '~/content/drive' \n",
        "\n",
        "drive.mount('/content/drive')"
      ],
      "execution_count": null,
      "outputs": []
    },
    {
      "cell_type": "code",
      "metadata": {
        "id": "RaP90f0NsDxW"
      },
      "source": [
        "cd drive/'MyDrive'/vitalSigns"
      ],
      "execution_count": null,
      "outputs": []
    },
    {
      "cell_type": "code",
      "metadata": {
        "id": "bcBtR2ZOTYcN"
      },
      "source": [
        "ls"
      ],
      "execution_count": null,
      "outputs": []
    },
    {
      "cell_type": "code",
      "metadata": {
        "id": "av5tm_L3iroW"
      },
      "source": [
        "cd treeplnt"
      ],
      "execution_count": null,
      "outputs": []
    },
    {
      "cell_type": "code",
      "metadata": {
        "id": "ZdfBdFQlitTs"
      },
      "source": [
        "ls"
      ],
      "execution_count": null,
      "outputs": []
    },
    {
      "cell_type": "code",
      "metadata": {
        "id": "kwrpGMYdTTi2"
      },
      "source": [
        "crs = {'init' :'epsg:2248'} \n",
        "gdf = gpd.read_file(\"All2019PlantingData.shp\", crs=crs)\n",
        "geometry=[Point(xy) for xy in zip(gdf['Longitude'], gdf['Latitude'])]\n",
        "gdf = gpd.GeoDataFrame( gdf, geometry=geometry)\n",
        "gdf.plot()\n",
        "gdf.head()"
      ],
      "execution_count": null,
      "outputs": []
    },
    {
      "cell_type": "code",
      "metadata": {
        "id": "Z_GEQtorTwKF"
      },
      "source": [
        "from dataplay import geoms "
      ],
      "execution_count": null,
      "outputs": []
    },
    {
      "cell_type": "code",
      "metadata": {
        "id": "YPhDXSifT0FM"
      },
      "source": [
        "help(geoms)"
      ],
      "execution_count": null,
      "outputs": []
    },
    {
      "cell_type": "code",
      "metadata": {
        "id": "wnTSrJJ2UBFu"
      },
      "source": [
        "fdf = geoms.workWithGeometryData(method='pinp', df=gdf, polys=csa_gdf, ptsCoordCol='geometry', polygonsCoordCol='geometry', polyColorCol=False, polygonsLabel='RecordsInCsa', pntsClr='red', polysClr='white')"
      ],
      "execution_count": null,
      "outputs": []
    },
    {
      "cell_type": "code",
      "metadata": {
        "id": "AcfzArEzXcLc"
      },
      "source": [
        "fdf.head()"
      ],
      "execution_count": null,
      "outputs": []
    },
    {
      "cell_type": "code",
      "metadata": {
        "id": "3LPyoosdp_6p"
      },
      "source": [
        "fdf.tail()"
      ],
      "execution_count": null,
      "outputs": []
    },
    {
      "cell_type": "code",
      "metadata": {
        "id": "YR_K2Q8-f1Me"
      },
      "source": [
        "findf = fdf.copy()"
      ],
      "execution_count": null,
      "outputs": []
    },
    {
      "cell_type": "code",
      "metadata": {
        "id": "47tyMYCQf5Yl"
      },
      "source": [
        "findf = findf[['CSA2010', 'tpop10', 'pointsinpolygon']]"
      ],
      "execution_count": null,
      "outputs": []
    },
    {
      "cell_type": "code",
      "metadata": {
        "id": "AHjjtWiviQk-"
      },
      "source": [
        "findf.dtypes"
      ],
      "execution_count": null,
      "outputs": []
    },
    {
      "cell_type": "code",
      "metadata": {
        "id": "gqVkJ3RnhDZ2"
      },
      "source": [
        "findf = findf.append({\n",
        "    'CSA2010': 'Baltimore City', \n",
        "    'tpop10': findf['tpop10'].sum(), \n",
        "    'pointsinpolygon': findf['pointsinpolygon'].sum(),\n",
        "     }, ignore_index=True)"
      ],
      "execution_count": null,
      "outputs": []
    },
    {
      "cell_type": "code",
      "metadata": {
        "id": "OqxeVbL4jKGF"
      },
      "source": [
        "findf.tail()"
      ],
      "execution_count": null,
      "outputs": []
    },
    {
      "cell_type": "code",
      "metadata": {
        "id": "2nrJt0H0dAHj"
      },
      "source": [
        "findf.to_csv('treeplnt19.csv')"
      ],
      "execution_count": null,
      "outputs": []
    },
    {
      "cell_type": "code",
      "metadata": {
        "id": "YFM_PfxGfxWW"
      },
      "source": [
        "ls"
      ],
      "execution_count": null,
      "outputs": []
    },
    {
      "cell_type": "markdown",
      "metadata": {
        "id": "3FiXt54yVMu1"
      },
      "source": [
        "The rate of persons per 1,000 residents that possess a valid public library system card. This includes all library card types (first card, juvenile, young adult, adult).\n",
        "\n",
        "\n"
      ]
    }
  ]
}