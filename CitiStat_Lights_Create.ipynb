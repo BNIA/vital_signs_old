{
  "nbformat": 4,
  "nbformat_minor": 0,
  "metadata": {
    "colab": {
      "name": "CitiStat_Lights_Create.ipynb",
      "provenance": [],
      "collapsed_sections": [
        "_3QiG_W4iDl7",
        "FWcTJ6L_dRvT"
      ],
      "toc_visible": true,
      "authorship_tag": "ABX9TyOmveJ5iUqI1fDX6eJcIiMP",
      "include_colab_link": true
    },
    "kernelspec": {
      "name": "python3",
      "display_name": "Python 3"
    }
  },
  "cells": [
    {
      "cell_type": "markdown",
      "metadata": {
        "id": "view-in-github",
        "colab_type": "text"
      },
      "source": [
        "<a href=\"https://colab.research.google.com/github/BNIA/VitalSigns/blob/main/CitiStat_Lights_Create.ipynb\" target=\"_parent\"><img src=\"https://colab.research.google.com/assets/colab-badge.svg\" alt=\"Open In Colab\"/></a>"
      ]
    },
    {
      "cell_type": "markdown",
      "metadata": {
        "id": "xGNJ-6pQgnnL"
      },
      "source": [
        "https://bniajfi.org/indicators/Crime%20and%20Safety/lights\n",
        "\n",
        "- Topic Area:   Crime and Safety\n",
        "\n",
        "- Source:   Baltimore City CitiStat\n",
        "\n",
        "- Years Available:   2016, 2017, 2018\n",
        "\n",
        "- The rate of service requests for addressing street light outages made through Baltimore's 311 system per 1,000 residents. More than one service request may be made for the same issue but is logged as a unique request.\n",
        "\n",
        "Number 215 on the indicator Sheet"
      ]
    },
    {
      "cell_type": "markdown",
      "metadata": {
        "id": "e8-mgsByhrxG"
      },
      "source": [
        "## SETUP Enviornment:"
      ]
    },
    {
      "cell_type": "markdown",
      "metadata": {
        "id": "0hHCW-qPMeH6"
      },
      "source": [
        "### Import Modules"
      ]
    },
    {
      "cell_type": "code",
      "metadata": {
        "id": "WUvcamATFo4G"
      },
      "source": [
        "%%capture\n",
        "! pip install -U -q PyDrive\n",
        "! pip install geopy\n",
        "! pip install geopandas\n",
        "! pip install geoplot\n",
        "! pip install dataplay\n",
        "! pip install matplotlib\n",
        "! pip install psycopg2-binary"
      ],
      "execution_count": null,
      "outputs": []
    },
    {
      "cell_type": "code",
      "metadata": {
        "id": "r0vkoXtZRdJz"
      },
      "source": [
        "%%capture\n",
        "! apt-get install build-dep python-psycopg2\n",
        "! apt-get install libpq-dev\n",
        "! apt-get install libspatialindex-dev"
      ],
      "execution_count": null,
      "outputs": []
    },
    {
      "cell_type": "code",
      "metadata": {
        "id": "gZ17xjOgR8vg"
      },
      "source": [
        "%%capture\n",
        "!pip install rtree\n",
        "!pip install dexplot"
      ],
      "execution_count": null,
      "outputs": []
    },
    {
      "cell_type": "code",
      "metadata": {
        "id": "w9Mcvm-X0gdo"
      },
      "source": [
        "from dataplay.geoms import workWithGeometryData"
      ],
      "execution_count": null,
      "outputs": []
    },
    {
      "cell_type": "code",
      "metadata": {
        "id": "nNOByHFKFo4m"
      },
      "source": [
        "%%capture \n",
        "# These imports will handle everything\n",
        "import os\n",
        "import sys\n",
        "import csv\n",
        "import matplotlib.pyplot as plt\n",
        "import numpy as np\n",
        "import pandas as pd\n",
        "import geopandas as gpd\n",
        "from geopandas import GeoDataFrame\n",
        "import psycopg2\n",
        "import pyproj\n",
        "from pyproj import Proj, transform\n",
        "# conda install -c conda-forge proj4\n",
        "from shapely.geometry import Point\n",
        "from shapely import wkb\n",
        "from shapely.wkt import loads\n",
        "# https://pypi.org/project/geopy/\n",
        "from geopy.geocoders import Nominatim\n",
        "\n",
        "# In case file is KML, enable support\n",
        "import fiona\n",
        "fiona.drvsupport.supported_drivers['kml'] = 'rw'\n",
        "fiona.drvsupport.supported_drivers['KML'] = 'rw'"
      ],
      "execution_count": null,
      "outputs": []
    },
    {
      "cell_type": "code",
      "metadata": {
        "id": "evj9GJLdSlxF"
      },
      "source": [
        "from IPython.display import clear_output\n",
        "clear_output(wait=True)"
      ],
      "execution_count": null,
      "outputs": []
    },
    {
      "cell_type": "code",
      "metadata": {
        "id": "uTcb3bD84mSA"
      },
      "source": [
        "import ipywidgets as widgets\n",
        "from ipywidgets import interact, interact_manual"
      ],
      "execution_count": null,
      "outputs": []
    },
    {
      "cell_type": "markdown",
      "metadata": {
        "id": "q8tLzJzcMh74"
      },
      "source": [
        "### Configure Enviornment"
      ]
    },
    {
      "cell_type": "code",
      "metadata": {
        "id": "OuH4mBeYCUqU"
      },
      "source": [
        "# This will just beautify the output\n",
        "\n",
        "pd.set_option('display.expand_frame_repr', False)\n",
        "pd.set_option('display.precision', 2)\n",
        "from IPython.core.interactiveshell import InteractiveShell\n",
        "InteractiveShell.ast_node_interactivity = \"all\"\n",
        "\n",
        "# pd.set_option('display.expand_frame_repr', False)\n",
        "# pd.set_option('display.precision', 2)\n",
        "# pd.reset_option('max_colwidth')\n",
        "pd.set_option('max_colwidth', 20)\n",
        "# pd.reset_option('max_colwidth')"
      ],
      "execution_count": null,
      "outputs": []
    },
    {
      "cell_type": "markdown",
      "metadata": {
        "id": "g-eNzM614b3K"
      },
      "source": [
        "## Prep Datasets"
      ]
    },
    {
      "cell_type": "markdown",
      "metadata": {
        "id": "_3QiG_W4iDl7"
      },
      "source": [
        "#### TPOP CSA and Baltimore"
      ]
    },
    {
      "cell_type": "markdown",
      "metadata": {
        "id": "tlQvkkbaB0ZI"
      },
      "source": [
        "Get Baltimore"
      ]
    },
    {
      "cell_type": "code",
      "metadata": {
        "id": "-xeV9WHdOhBv"
      },
      "source": [
        "#collapse_output\n",
        "#collapse_input\n",
        "csa = \"https://services1.arcgis.com/mVFRs7NF4iFitgbY/ArcGIS/rest/services/Tpop/FeatureServer/0/query?where=1%3D1&outFields=*&returnGeometry=true&f=pgeojson\"\n",
        "csa = gpd.read_file(csa);\n",
        "csa.head(1)"
      ],
      "execution_count": null,
      "outputs": []
    },
    {
      "cell_type": "markdown",
      "metadata": {
        "id": "QyBS5PlHB1db"
      },
      "source": [
        "Get CSA"
      ]
    },
    {
      "cell_type": "code",
      "metadata": {
        "id": "2FLpVhiPUAck"
      },
      "source": [
        "url2 = \"https://services1.arcgis.com/mVFRs7NF4iFitgbY/ArcGIS/rest/services/Tpop/FeatureServer/1/query?where=1%3D1&outFields=*&returnGeometry=true&f=pgeojson\"\n",
        "csa2 = gpd.read_file(url2);\n",
        "csa2['CSA2010'] = csa2['City_1'] \n",
        "csa2['OBJECTID'] = 56 \n",
        "csa2 = csa2.drop(columns=['City_1'])\n",
        "csa2.head()"
      ],
      "execution_count": null,
      "outputs": []
    },
    {
      "cell_type": "markdown",
      "metadata": {
        "id": "RiT-Pc1jgZJI"
      },
      "source": [
        "Append do no append Bcity. We put it on the Bottom of the df because when performing the ponp it returns only the last matching columns CSA Label. "
      ]
    },
    {
      "cell_type": "code",
      "metadata": {
        "id": "RWZigszHUWm5"
      },
      "source": [
        "# csa = pd.concat([csa2, csa], ignore_index=True)\n",
        "csa = csa.append(csa2).reset_index(drop=True)"
      ],
      "execution_count": null,
      "outputs": []
    },
    {
      "cell_type": "code",
      "metadata": {
        "id": "oH6C5OecjBsy"
      },
      "source": [
        "csa.head(3)"
      ],
      "execution_count": null,
      "outputs": []
    },
    {
      "cell_type": "code",
      "metadata": {
        "id": "WLpXYhJHB_rt"
      },
      "source": [
        "csa.tail(3)"
      ],
      "execution_count": null,
      "outputs": []
    },
    {
      "cell_type": "code",
      "metadata": {
        "id": "wpZDcRVkk9SJ"
      },
      "source": [
        "csa.head()"
      ],
      "execution_count": null,
      "outputs": []
    },
    {
      "cell_type": "code",
      "metadata": {
        "id": "wG_g3sp2J2pq"
      },
      "source": [
        "csa.drop(columns=['Shape__Area', 'Shape__Length', 'OBJECTID'], axis=1).to_file(\"BCity_and_CSA.geojson\", driver='GeoJSON')"
      ],
      "execution_count": null,
      "outputs": []
    },
    {
      "cell_type": "markdown",
      "metadata": {
        "id": "FWcTJ6L_dRvT"
      },
      "source": [
        "### Citistat"
      ]
    },
    {
      "cell_type": "code",
      "metadata": {
        "id": "pZz3k6jIGlpe"
      },
      "source": [
        "ls"
      ],
      "execution_count": null,
      "outputs": []
    },
    {
      "cell_type": "code",
      "metadata": {
        "id": "JEHwgbL4JKhg"
      },
      "source": [
        "lights = gpd.read_file(\"LightsOut_2019_CSACity.shp\");"
      ],
      "execution_count": null,
      "outputs": []
    },
    {
      "cell_type": "code",
      "metadata": {
        "id": "luHGxu8m5qsf"
      },
      "source": [
        ""
      ],
      "execution_count": null,
      "outputs": []
    },
    {
      "cell_type": "code",
      "metadata": {
        "id": "X2QycwBARUL1"
      },
      "source": [
        "year = '20'"
      ],
      "execution_count": null,
      "outputs": []
    },
    {
      "cell_type": "code",
      "metadata": {
        "id": "xYKPKADy5q9k"
      },
      "source": [
        "original = gpd.read_file(\"LightsOut_20\"+year+\"_CSACity.shp\");"
      ],
      "execution_count": null,
      "outputs": []
    },
    {
      "cell_type": "code",
      "metadata": {
        "id": "4nY9fic40SMR"
      },
      "source": [
        "original.rename(columns={ 'CSA':'CSA2010', 'BaltCity':'InBaltimore'}, inplace=True)"
      ],
      "execution_count": null,
      "outputs": []
    },
    {
      "cell_type": "code",
      "metadata": {
        "id": "rZ2ZSeobuI2O"
      },
      "source": [
        "original.head()"
      ],
      "execution_count": null,
      "outputs": []
    },
    {
      "cell_type": "code",
      "metadata": {
        "id": "mEJ_f0Vq7nNM"
      },
      "source": [
        "# Convert to EPSG:4326\n",
        "# fares.crs\n",
        "original = original.to_crs(epsg=4326)"
      ],
      "execution_count": null,
      "outputs": []
    },
    {
      "cell_type": "markdown",
      "metadata": {
        "id": "VQC_OE-9tCLs"
      },
      "source": [
        "Original Dataset"
      ]
    },
    {
      "cell_type": "code",
      "metadata": {
        "id": "mGq6t5yppn-G"
      },
      "source": [
        "original.plot()"
      ],
      "execution_count": null,
      "outputs": []
    },
    {
      "cell_type": "markdown",
      "metadata": {
        "id": "BKINeI4LuZ3p"
      },
      "source": [
        "Remove these for not being either a CSA or Baltimore"
      ]
    },
    {
      "cell_type": "code",
      "metadata": {
        "id": "IjBo8tv8s7Dn"
      },
      "source": [
        "removeThese = original[ original['CSA2010'].isnull() & original['InBaltimore'].isnull()  ]\n",
        "removeThese.plot()"
      ],
      "execution_count": null,
      "outputs": []
    },
    {
      "cell_type": "markdown",
      "metadata": {
        "id": "SOXB1w8XtEeE"
      },
      "source": [
        "Keep These"
      ]
    },
    {
      "cell_type": "markdown",
      "metadata": {
        "id": "h6D-HPW11KIY"
      },
      "source": [
        ""
      ]
    },
    {
      "cell_type": "code",
      "metadata": {
        "id": "vRcdLUNWhOBt"
      },
      "source": [
        "df = original[ original['CSA2010'].notnull() | original['InBaltimore'].notnull()  ]\n",
        "df.plot()"
      ],
      "execution_count": null,
      "outputs": []
    },
    {
      "cell_type": "code",
      "metadata": {
        "id": "cz7Pr7qFoT-8"
      },
      "source": [
        "print('After filtering records where a CSA or Baltimore geo-code match Exists')\n",
        "print( 'All rows Before Filter: ', original.shape[0] ) # rows, columns\n",
        "print( '# w BCity.isnull: ', df.InBaltimore.isnull().sum() ); bmorow = df[ df.CSA2010.isnull()  ].shape[0]\n",
        "print( '# w CSA2010.isnull: ', bmorow ); csarow = df[ df.CSA2010.notnull()  ].shape[0] \n",
        "print( '# w CSA2010.notnull: ', csarow ); \n",
        "print( '# rows After Filter: ', df.shape[0],'==',csarow,'+',bmorow,'==', csarow + bmorow); "
      ],
      "execution_count": null,
      "outputs": []
    },
    {
      "cell_type": "code",
      "metadata": {
        "id": "gjTdZWcrmIUy"
      },
      "source": [
        "# add baltimore city\n",
        "df.CSA2010 = df.CSA2010.fillna('Baltimore City')"
      ],
      "execution_count": null,
      "outputs": []
    },
    {
      "cell_type": "code",
      "metadata": {
        "id": "ntkgHH5vqFRA"
      },
      "source": [
        "df.head(1)"
      ],
      "execution_count": null,
      "outputs": []
    },
    {
      "cell_type": "code",
      "metadata": {
        "id": "OCpPicOOmvTg"
      },
      "source": [
        "df.to_csv('citistat_ponp_gdf'+year+'.csv', index=False) "
      ],
      "execution_count": null,
      "outputs": []
    },
    {
      "cell_type": "code",
      "metadata": {
        "id": "nDzWtO8N7nNP"
      },
      "source": [
        "# list(fares.columns)\n",
        "print(df.columns.values)"
      ],
      "execution_count": null,
      "outputs": []
    },
    {
      "cell_type": "markdown",
      "metadata": {
        "id": "AdGOQ_MFirUp"
      },
      "source": [
        "### Create Indicator - 215 - Lights"
      ]
    },
    {
      "cell_type": "markdown",
      "metadata": {
        "id": "fUHWzaLGL8nJ"
      },
      "source": [
        "The rate of service requests for addressing street light outages made through Baltimore's 311 system per 1,000 residents.\n",
        "\n",
        "More than one service request may be made for the same issue but is logged as a unique request."
      ]
    },
    {
      "cell_type": "code",
      "metadata": {
        "id": "NAPfhluS7ktp"
      },
      "source": [
        "lightsCsa = df.copy()"
      ],
      "execution_count": null,
      "outputs": []
    },
    {
      "cell_type": "code",
      "metadata": {
        "id": "nQ3ioF9272hf"
      },
      "source": [
        "citistat.dtypes"
      ],
      "execution_count": null,
      "outputs": []
    },
    {
      "cell_type": "code",
      "metadata": {
        "id": "YRkH55Hd8MRx"
      },
      "source": [
        "lightsCsa['count'] = 1\n",
        "lightsCsa.groupby('CSA2010').sum(numeric_only=True).head(56)"
      ],
      "execution_count": null,
      "outputs": []
    },
    {
      "cell_type": "code",
      "metadata": {
        "id": "YhTFuhuvgYqB"
      },
      "source": [
        "csa.tail()"
      ],
      "execution_count": null,
      "outputs": []
    },
    {
      "cell_type": "code",
      "metadata": {
        "id": "jdsfRkBTF0jy"
      },
      "source": [
        "  lightsCsaTemp = df.copy()\n",
        "  lightsCsaTemp['count'] = 1\n",
        "  light = lightsCsaTemp.groupby('CSA2010').sum(numeric_only=True) \n",
        "  df.head(1)"
      ],
      "execution_count": null,
      "outputs": []
    },
    {
      "cell_type": "code",
      "metadata": {
        "id": "dSCQnVuaIw6q"
      },
      "source": [
        "light['count'].sum()"
      ],
      "execution_count": null,
      "outputs": []
    },
    {
      "cell_type": "code",
      "metadata": {
        "id": "Od0lOLQ2rHHg"
      },
      "source": [
        "def lightsOut(df,yr):\n",
        "  # The rate of service requests for addressing street light outages made through Baltimore's 311 system per 1,000 residents.\n",
        "  # More than one service request may be made for the same issue but is logged as a unique request.\n",
        "\n",
        "  # Create the Denominator\n",
        "  lightDenominator = csa.copy()\n",
        "  lightDenominator = lightDenominator[['tpop10','CSA2010']]\n",
        "  lightDenominator = lightDenominator.set_index('CSA2010')\n",
        "\n",
        "  # Create the Numerator\n",
        "  light = df.copy()\n",
        "  light['count'] = 1\n",
        "  light = light.groupby('CSA2010').sum(numeric_only=True) \n",
        "\n",
        "  # Make sure ALL csas and BaltimoreCity are included and sorted.\n",
        "  light = csa.merge( light, left_on='CSA2010', right_on='CSA2010', how='outer' )  \n",
        "  light.drop( columns=['geometry', 'Shape__Length','CouncilDis','Latitude','Longitude','Shape__Area','OBJECTID_y','OBJECTID_x'], inplace=True)\n",
        "  light.at[55,'count']=light['count'].sum()\n",
        "  # Perform the calculation\n",
        "  light['lights_'+year] = light['count'] / light['tpop10'] * 1000 \n",
        "\n",
        "  light.to_csv('215-lights'+yr+'.csv', index=False)\n",
        "\n",
        "  print( 'Records Matching Query: ', light.size / len(light.columns) )\n",
        "  return light\n",
        "\n",
        "lightsOut(lightsCsa,'_'+year).tail(5)"
      ],
      "execution_count": null,
      "outputs": []
    },
    {
      "cell_type": "code",
      "metadata": {
        "id": "bO3nWHwssB3F"
      },
      "source": [
        ""
      ],
      "execution_count": null,
      "outputs": []
    }
  ]
}