{
  "nbformat": 4,
  "nbformat_minor": 0,
  "metadata": {
    "colab": {
      "name": "Mdprop_closecrawl.ipynb",
      "provenance": [],
      "collapsed_sections": [
        "PF7NoFzRLshU",
        "P3WNvZGQOTxw",
        "qvrpq23i3fAm",
        "5IId52zH3dS8",
        "PMzIRtVn3aaC",
        "sfkW3QrQ3YSf",
        "473Wzgfs3PkE",
        "YLNNLLgW3MLH"
      ],
      "include_colab_link": true
    },
    "kernelspec": {
      "display_name": "Python 3",
      "name": "python3"
    }
  },
  "cells": [
    {
      "cell_type": "markdown",
      "metadata": {
        "id": "view-in-github",
        "colab_type": "text"
      },
      "source": [
        "<a href=\"https://colab.research.google.com/github/BNIA/VitalSigns/blob/main/Mdprop_closecrawl.ipynb\" target=\"_parent\"><img src=\"https://colab.research.google.com/assets/colab-badge.svg\" alt=\"Open In Colab\"/></a>"
      ]
    },
    {
      "cell_type": "markdown",
      "metadata": {
        "id": "_jLE_5-I9HzS"
      },
      "source": [
        "# MDProp Intake and Operations\n",
        "\n",
        "> This notebook uses Info-USA data to generate a portion of BNIA's Vital Signs report."
      ]
    },
    {
      "cell_type": "markdown",
      "metadata": {
        "id": "re1mKu02JABB"
      },
      "source": [
        "#### __Columns Used__\n",
        "\n",
        "- ✅ 14x - __crehab__ - (MdProp, Permits) Percentage of properties with rehabilitation permits exceeding $5k\n",
        "\n",
        "- ✅ 14x - __comprop__ - (MdProp, Permits) Percentage of properties with rehabilitation permits exceeding $5k\n",
        "\n",
        "- ✅ 36 - __resrehab__ - (MdProp, Permits) Percentage of properties with rehabilitation permits exceeding $5k\n",
        "\n",
        "- ✅ 41 - __demper__ - (MdProp, Permits) number of demolition permits per 1000 residential properties\n",
        "\n",
        "- ✅ 42 - __constper__ - (MdProp, Permits) Number of of new constructio permits per 1000 residential properties"
      ]
    },
    {
      "cell_type": "markdown",
      "metadata": {
        "id": "cCvsPP8AJRJA"
      },
      "source": [
        "#### __Datasets Used__\n",
        "\n",
        " \n",
        "- ✅ foreclosures.foreclosures_201X __(33-fore-> 2018/ 2019 Close-Crawler)__\n",
        "\n",
        "- ❌ housing.vacants_201X __(34-vacant -> datenotice, dateabate, datecancle)__\n",
        "\n",
        "- ✔️ housing.permits_201X __(36-resrehab, 41-demper, 42-constper -> field22, casetype, propuse, existingus, cost)__\n",
        "\n",
        "- ✔️ housing.mdprop_201X \n",
        "- - 18 can use the indicators from 2017. \n",
        "- - [totalres](https://bniajfi.org/indicators/Housing%20And%20Community%20Development/totalres) __( 33-fore, 34-vacant, 35-vio, 36-resrehab, 40-taxlien, 41-demper, 42-constper, __ ownroc __)__ \n"
      ]
    },
    {
      "cell_type": "markdown",
      "metadata": {
        "id": "iSNOAJoTlQr0"
      },
      "source": [
        "This colab and more can be found at https://github.com/BNIA/colabs.\n"
      ]
    },
    {
      "cell_type": "markdown",
      "metadata": {
        "id": "ukxt0JZCsaxc"
      },
      "source": [
        "## About this Tutorial: "
      ]
    },
    {
      "cell_type": "markdown",
      "metadata": {
        "id": "Z9Oix1S6gvm4"
      },
      "source": [
        "### Whats Inside?"
      ]
    },
    {
      "cell_type": "markdown",
      "metadata": {
        "id": "lEdBnKIqli8m"
      },
      "source": [
        "#### __The Tutorial__\n",
        "\n",
        "This notebook was made to create Vital Signs Indicators from an Info-USA geographic dataset.\n",
        "\n",
        "This lab is split into two sections. \n",
        "- The first part of this lab, a _guided walkthrough_, provides ample documentation so you understand how to perform basic geographic data operations.\n",
        "- The second, more _advanced_ part of this notebook provides a single python function that handles everything covered in this lab (and more). "
      ]
    },
    {
      "cell_type": "markdown",
      "metadata": {
        "id": "TK4HOnSWrpy-"
      },
      "source": [
        "#### __Objectives__\n",
        "\n",
        "- Reading in data (points/ geoms)\n",
        "-- Convert lat/lng columns to point coordinates\n",
        "-- Geocoding address to coordinates\n",
        "-- Changing coordinate reference systems\n",
        "-- Connecting to PostGisDB's\n",
        "- Basic Operations\n",
        "- Saving shape data\n",
        "- Get Polygon Centroids\n",
        "- Working with Points and Polygons\n",
        "-- Map Points and Polygons\n",
        "-- Get Points in Polygons\n",
        "-- Create Choropleths\n",
        "-- Create Heatmaps (KDE?)"
      ]
    },
    {
      "cell_type": "markdown",
      "metadata": {
        "id": "-1RKv4DiMVwo"
      },
      "source": [
        "# Guided Walkthrough"
      ]
    },
    {
      "cell_type": "markdown",
      "metadata": {
        "id": "e8-mgsByhrxG"
      },
      "source": [
        "## SETUP:"
      ]
    },
    {
      "cell_type": "markdown",
      "metadata": {
        "id": "0hHCW-qPMeH6"
      },
      "source": [
        "### Import Modules"
      ]
    },
    {
      "cell_type": "code",
      "metadata": {
        "id": "WUvcamATFo4G"
      },
      "source": [
        "%%capture\n",
        "! pip install -U -q PyDrive\n",
        "! pip install geopy\n",
        "! pip install geopandas\n",
        "! pip install geoplot"
      ],
      "execution_count": null,
      "outputs": []
    },
    {
      "cell_type": "code",
      "metadata": {
        "id": "p6ueNkdkJX6B"
      },
      "source": [
        "!apt install libspatialindex-dev\n",
        "!pip install rtree"
      ],
      "execution_count": null,
      "outputs": []
    },
    {
      "cell_type": "code",
      "metadata": {
        "id": "4a0sk8EFZTZu"
      },
      "source": [
        "%%capture\n",
        "!pip install dataplay"
      ],
      "execution_count": null,
      "outputs": []
    },
    {
      "cell_type": "code",
      "metadata": {
        "id": "nNOByHFKFo4m"
      },
      "source": [
        "%%capture \n",
        "# These imports will handle everything\n",
        "import os\n",
        "import sys\n",
        "import csv\n",
        "import matplotlib.pyplot as plt\n",
        "import numpy as np\n",
        "import pandas as pd\n",
        "import geopandas as gpd\n",
        "from geopandas import GeoDataFrame\n",
        "import psycopg2\n",
        "import pyproj\n",
        "from pyproj import Proj, transform\n",
        "# conda install -c conda-forge proj4\n",
        "from shapely.geometry import Point\n",
        "from shapely import wkb\n",
        "from shapely.wkt import loads\n",
        "# https://pypi.org/project/geopy/\n",
        "from geopy.geocoders import Nominatim\n",
        "\n",
        "# In case file is KML, enable support\n",
        "import fiona\n",
        "fiona.drvsupport.supported_drivers['kml'] = 'rw'\n",
        "fiona.drvsupport.supported_drivers['KML'] = 'rw'"
      ],
      "execution_count": null,
      "outputs": []
    },
    {
      "cell_type": "code",
      "metadata": {
        "id": "evj9GJLdSlxF"
      },
      "source": [
        "from IPython.display import clear_output\n",
        "clear_output(wait=True)"
      ],
      "execution_count": null,
      "outputs": []
    },
    {
      "cell_type": "code",
      "metadata": {
        "id": "uTcb3bD84mSA"
      },
      "source": [
        "import ipywidgets as widgets\n",
        "from ipywidgets import interact, interact_manual"
      ],
      "execution_count": null,
      "outputs": []
    },
    {
      "cell_type": "markdown",
      "metadata": {
        "id": "q8tLzJzcMh74"
      },
      "source": [
        "### Configure Enviornment"
      ]
    },
    {
      "cell_type": "code",
      "metadata": {
        "id": "OuH4mBeYCUqU"
      },
      "source": [
        "# This will just beautify the output\n",
        "\n",
        "pd.set_option('display.expand_frame_repr', False)\n",
        "pd.set_option('display.precision', 2)\n",
        "from IPython.core.interactiveshell import InteractiveShell\n",
        "InteractiveShell.ast_node_interactivity = \"all\"\n",
        "\n",
        "# pd.set_option('display.expand_frame_repr', False)\n",
        "# pd.set_option('display.precision', 2)\n",
        "# pd.reset_option('max_colwidth')\n",
        "pd.set_option('max_colwidth', 20)\n",
        "# pd.reset_option('max_colwidth')"
      ],
      "execution_count": null,
      "outputs": []
    },
    {
      "cell_type": "markdown",
      "metadata": {
        "id": "P8jxi_B1I46s"
      },
      "source": [
        ""
      ]
    },
    {
      "cell_type": "markdown",
      "metadata": {
        "id": "_3QiG_W4iDl7"
      },
      "source": [
        "## CSA and Baltimore"
      ]
    },
    {
      "cell_type": "code",
      "metadata": {
        "id": "EWg9TIH10SQg"
      },
      "source": [
        "#collapse_output\n",
        "#collapse_input\n",
        "csa = \"https://services1.arcgis.com/mVFRs7NF4iFitgbY/ArcGIS/rest/services/Tpop/FeatureServer/1/query?where=1%3D1&outFields=*&returnGeometry=true&f=pgeojson\"\n",
        "csa = gpd.read_file(csa);\n",
        "csa.head(1)"
      ],
      "execution_count": null,
      "outputs": []
    },
    {
      "cell_type": "code",
      "metadata": {
        "id": "2FLpVhiPUAck"
      },
      "source": [
        "url2 = \"https://services1.arcgis.com/mVFRs7NF4iFitgbY/ArcGIS/rest/services/Tpop/FeatureServer/0/query?where=1%3D1&outFields=*&returnGeometry=true&f=pgeojson\"\n",
        "csa2 = gpd.read_file(url2);\n",
        "csa2['CSA2010'] = csa2['City_1'] \n",
        "csa2['OBJECTID'] = 56 \n",
        "csa2 = csa2.drop(columns=['City_1'])\n",
        "csa2.head()"
      ],
      "execution_count": null,
      "outputs": []
    },
    {
      "cell_type": "code",
      "metadata": {
        "id": "mTPpWEPJPuGm"
      },
      "source": [
        "# csa = pd.concat([csa2, csa], ignore_index=True)\n",
        "csa = csa.append(csa2).reset_index(drop=True)"
      ],
      "execution_count": null,
      "outputs": []
    },
    {
      "cell_type": "markdown",
      "metadata": {
        "id": "XVzhg6W_Pb5u"
      },
      "source": [
        "Actually..."
      ]
    },
    {
      "cell_type": "code",
      "metadata": {
        "id": "sfM0Rnb5JRE8"
      },
      "source": [
        "totalres = pd.read_csv('37-totalres-19.csv')"
      ],
      "execution_count": null,
      "outputs": []
    },
    {
      "cell_type": "markdown",
      "metadata": {
        "id": "RiT-Pc1jgZJI"
      },
      "source": [
        "Append Baltimore City to the top of the CSA list. You use concat and not append to do this. We put it on the top of the df because when performing the ponp it returns only the last matching columns CSA Label. "
      ]
    },
    {
      "cell_type": "code",
      "metadata": {
        "id": "oH6C5OecjBsy"
      },
      "source": [
        "totalres.head()\n",
        "totalres.tail()"
      ],
      "execution_count": null,
      "outputs": []
    },
    {
      "cell_type": "markdown",
      "metadata": {
        "id": "PF7NoFzRLshU"
      },
      "source": [
        "# Permits"
      ]
    },
    {
      "cell_type": "markdown",
      "metadata": {
        "id": "P3WNvZGQOTxw"
      },
      "source": [
        "## Import"
      ]
    },
    {
      "cell_type": "code",
      "metadata": {
        "id": "NozF5A2AL03d"
      },
      "source": [
        "permits = gpd.read_file(\"Permits_2019_CSACity.shp\");\n",
        "permits.head()"
      ],
      "execution_count": null,
      "outputs": []
    },
    {
      "cell_type": "code",
      "metadata": {
        "id": "WrE9nT8qVWlW"
      },
      "source": [
        "permits.columns\n",
        "permits.crs\n",
        "permits.head(5)"
      ],
      "execution_count": null,
      "outputs": []
    },
    {
      "cell_type": "code",
      "metadata": {
        "id": "ekA3msZtM9Az"
      },
      "source": [
        "# Convert to EPSG:4326\n",
        "permits = permits.to_crs(epsg=4326)\n",
        "permits.crs"
      ],
      "execution_count": null,
      "outputs": []
    },
    {
      "cell_type": "code",
      "metadata": {
        "id": "gJlWDqDaNDja"
      },
      "source": [
        "# Convert Geom to Coords\n",
        "permits['x'] = permits.geometry.x\n",
        "permits['y'] = permits.geometry.y\n",
        "permits.head(5)"
      ],
      "execution_count": null,
      "outputs": []
    },
    {
      "cell_type": "code",
      "metadata": {
        "id": "ht5jj0laT2e3"
      },
      "source": [
        "permits = permits[ permits.geometry.y > 38 ]"
      ],
      "execution_count": null,
      "outputs": []
    },
    {
      "cell_type": "code",
      "metadata": {
        "id": "VHYcyhxeUMDS"
      },
      "source": [
        "# Reference: All Points\n",
        "base = csa.plot(color='white', edgecolor='black')\n",
        "permits.plot(ax=base, marker='o', color='green', markersize=5);"
      ],
      "execution_count": null,
      "outputs": []
    },
    {
      "cell_type": "code",
      "metadata": {
        "id": "X1cUfBhYVKXA"
      },
      "source": [
        "permits.columns"
      ],
      "execution_count": null,
      "outputs": []
    },
    {
      "cell_type": "code",
      "metadata": {
        "id": "jYNkI1nvhKDM"
      },
      "source": [
        ""
      ],
      "execution_count": null,
      "outputs": []
    },
    {
      "cell_type": "code",
      "metadata": {
        "id": "Gn6WcQWykoQr"
      },
      "source": [
        "csa.tail()"
      ],
      "execution_count": null,
      "outputs": []
    },
    {
      "cell_type": "code",
      "metadata": {
        "id": "xY1mXy0A9CA_"
      },
      "source": [
        "from dataplay import geoms\n",
        "# Get CSA Labels for all Points.\n",
        "# permitsCsa = geoms.getPolygonOnPoints(permits, csa, 'geometry', 'geometry', 'CSA2010' )\n",
        "permitsCsa = geoms.workWithGeometryData(method='ponp', df=permits, polys=csa, ptsCoordCol='geometry', polygonsCoordCol='geometry', polyColorCol=False, polygonsLabel='CSA2010', pntsClr='red', polysClr='white')\n",
        "# permitsCsa = permitsCsa.drop('geometry',axis=1)"
      ],
      "execution_count": null,
      "outputs": []
    },
    {
      "cell_type": "code",
      "metadata": {
        "id": "oK-gG3AXkgz6"
      },
      "source": [
        "permitsCsa.head(10)"
      ],
      "execution_count": null,
      "outputs": []
    },
    {
      "cell_type": "markdown",
      "metadata": {
        "id": "J6_DjC2wT4Nl"
      },
      "source": [
        "## Processing"
      ]
    },
    {
      "cell_type": "markdown",
      "metadata": {
        "id": "yIOlaXsSOh78"
      },
      "source": [
        "All"
      ]
    },
    {
      "cell_type": "code",
      "metadata": {
        "id": "nwUuhSiyOj40"
      },
      "source": [
        "permitsAll = permits"
      ],
      "execution_count": null,
      "outputs": []
    },
    {
      "cell_type": "code",
      "metadata": {
        "id": "muxJghsFOj5J"
      },
      "source": [
        "# Reference: All Points\n",
        "base = csa.plot(color='white', edgecolor='black')\n",
        "permitsAll.plot(ax=base, marker='o', color='green', markersize=5);"
      ],
      "execution_count": null,
      "outputs": []
    },
    {
      "cell_type": "code",
      "metadata": {
        "id": "Dk16SK99Nqk9"
      },
      "source": [
        "permits = permitsAll"
      ],
      "execution_count": null,
      "outputs": []
    },
    {
      "cell_type": "code",
      "metadata": {
        "id": "BnzmHoZEOOJz"
      },
      "source": [
        "# y < 0\n",
        "permitsLessThanZero = permits[ permits.geometry.y < 0 ]\n",
        "print('Y<0: ', permitsLessThanZero.size, '\\n')"
      ],
      "execution_count": null,
      "outputs": []
    },
    {
      "cell_type": "code",
      "metadata": {
        "id": "tV9v5r63M9Av"
      },
      "source": [
        "# y > 0\n",
        "permitsGreaterThanZero = permits[ permits.geometry.y > 0 ]\n",
        "print('Y>0: ', permitsGreaterThanZero.size, '\\n')\n",
        "permitsGreaterThanZero.plot();"
      ],
      "execution_count": null,
      "outputs": []
    },
    {
      "cell_type": "code",
      "metadata": {
        "id": "05pzlYn0ROpV"
      },
      "source": [
        "# 0 < y < 38\n",
        "permitsOver38 = permits[ permits.geometry.y < 38 ]\n",
        "permitsOver38 = permitsOver38[ permitsOver38.geometry.y > 0 ]\n",
        "print('0 < y < 38: ', permitsOver38.size, '\\n') "
      ],
      "execution_count": null,
      "outputs": []
    },
    {
      "cell_type": "code",
      "metadata": {
        "id": "m6fJQNAHRVzY"
      },
      "source": [
        "# y > 38\n",
        "permitsUnder38 = permits[ permits.geometry.y > 38 ]\n",
        "print('Y>38 Less than Zero: ', permitsUnder38.size, '\\n')\n",
        "permitsUnder38.plot();"
      ],
      "execution_count": null,
      "outputs": []
    },
    {
      "cell_type": "markdown",
      "metadata": {
        "id": "G9JpYDIngTfd"
      },
      "source": [
        "# Create Indicators"
      ]
    },
    {
      "cell_type": "markdown",
      "metadata": {
        "id": "iFjxKHfo5l11"
      },
      "source": [
        "### Load Data"
      ]
    },
    {
      "cell_type": "code",
      "metadata": {
        "id": "mAauyoSX4r19"
      },
      "source": [
        "totalres = pd.read_csv('37-totalres-19.csv')"
      ],
      "execution_count": null,
      "outputs": []
    },
    {
      "cell_type": "code",
      "metadata": {
        "id": "JNRLZHHh6KHN"
      },
      "source": [
        "# https://stackoverflow.com/questions/29314033/drop-rows-containing-empty-cells-from-a-pandas-dataframe\n",
        "year = '19'\n",
        "permitsCsa = gpd.read_file(\"Permits_20\"+year+\"_CSACity.shp\", geometry='geometry');\n",
        "# print(permitsCsa.crs)\n",
        "# permits = permits.to_crs(epsg=4326)\n",
        "permitsCsa['CSA2010'] = permitsCsa['CSA']\n",
        "permitsCsa.head()\n",
        "\n",
        "permitsCsa['bcitycount'] = 1\n",
        "permitsCsa['csacount'] = 1\n",
        "\n",
        "print( permitsCsa[permitsCsa['BaltCity'].isnull()].CSA.unique() ) \n",
        "\n",
        "# replace empty\n",
        "permitsCsa['BaltCity'].replace('', np.nan, inplace=True)\n",
        "# drop null\n",
        "permitsCsa.dropna(subset=['BaltCity'], inplace=True)"
      ],
      "execution_count": null,
      "outputs": []
    },
    {
      "cell_type": "code",
      "metadata": {
        "id": "E6ZQ95iGTzH7"
      },
      "source": [
        "permitsCsa.typework.unique()"
      ],
      "execution_count": null,
      "outputs": []
    },
    {
      "cell_type": "code",
      "metadata": {
        "id": "Es96BjXoYcJ2"
      },
      "source": [
        "permitsCsa[permitsCsa['BaltCity'].isnull()].CSA.unique()"
      ],
      "execution_count": null,
      "outputs": []
    },
    {
      "cell_type": "code",
      "metadata": {
        "id": "_hRYLzyoXEiK"
      },
      "source": [
        "permitsCsa.BaltCity.value_counts()"
      ],
      "execution_count": null,
      "outputs": []
    },
    {
      "cell_type": "markdown",
      "metadata": {
        "id": "8Gn00GaKyPS5"
      },
      "source": [
        "### Comprop 141 - (MdProp)"
      ]
    },
    {
      "cell_type": "markdown",
      "metadata": {
        "id": "qexWo6J5yeSw"
      },
      "source": [
        "----/*<comprop>* Indicator Number 141/\n",
        "\t\twith tbl AS (\n",
        "\t\t\tselect (sum(\n",
        "\t\t\t\t\t\tcase \n",
        "\t\t\t\t\t\twhen (lu like 'C' OR lu LIKE 'EC' OR lu LIKE 'I')\n",
        "\t\t\t\t\t\tthen 1\n",
        "\t\t\t\t\t\telse 0\n",
        "\t\t\t\t\t\tend)::numeric \n",
        "\t\t\t\t) as result, csa\n",
        "\t\t\t\tfrom vital_signs.match_csas_and_bc_by_geom('housing.mdprop_2017', 'gid', 'the_geom') a\n",
        "\t\t\t\tleft join housing.mdprop_2017 b on a.gid = b.gid\n",
        "\t\t\t\tgroup by csa, the_pop\n",
        "\t\t\t)\n",
        "\t\t\tupdate vital_signs.data\n",
        "\t\t\tset comprop = result from tbl where data.csa = tbl.csa and data_year = '2016';\t\t\n",
        "\n"
      ]
    },
    {
      "cell_type": "markdown",
      "metadata": {
        "id": "3YVhhMwr5Qcw"
      },
      "source": [
        "sum( case when (lu like 'C' OR lu LIKE 'EC' OR lu LIKE 'I')"
      ]
    },
    {
      "cell_type": "code",
      "metadata": {
        "id": "wVMSUSD-8Ela"
      },
      "source": [
        "mdprop = gpd.read_file('MDPropertyView_2021_CSACity.shp')\n",
        "pd.set_option('display.max_columns', None)\n",
        "mdprop.head(1)"
      ],
      "execution_count": null,
      "outputs": []
    },
    {
      "cell_type": "code",
      "metadata": {
        "id": "QHtYkLSf7Ggn"
      },
      "source": [
        "comprop = mdprop.copy()\n",
        "comprop['CSA'] = comprop.CSA.fillna('Baltimore City')\n",
        "comprop['comprop19'] = 1\n",
        "# mdprop = csa[['CSA','comprop19']]\n",
        "comprop = comprop[ comprop['LU'].isin( ['C','EC','I'] ) ]\n",
        "comprop = comprop.groupby('CSA').sum(numeric_only=True) \n",
        "# Make sure ALL csas and BaltimoreCity are included. among other things\n",
        "comprop = csa[ ['CSA2010','tpop10'] ].merge( comprop, left_on='CSA2010', right_on='CSA', how='outer' ) \n",
        "# Update the baltimore CSA.\n",
        "comprop.at[55,'comprop19'] = comprop['comprop19'].sum() \n",
        "comprop = comprop[['comprop19', 'CSA2010']]\n",
        "comprop.head(58)\n",
        "\n",
        "# Create the Indicator\n",
        "comprop.to_csv('141-comprop19-19.csv', index=False) "
      ],
      "execution_count": null,
      "outputs": []
    },
    {
      "cell_type": "markdown",
      "metadata": {
        "id": "YNWVUTsSyQSw"
      },
      "source": [
        "### Crehab 142 - (Permits, MdProp)"
      ]
    },
    {
      "cell_type": "markdown",
      "metadata": {
        "id": "TZMteAKJypoY"
      },
      "source": [
        "\n",
        "--/* <crehab_16> * Indicator Number 142/\n",
        "\t\twith numerator AS (\n",
        "\t\t\tselect sum(\n",
        "\t\t\tcase \n",
        "\t\t\t\twhen (\n",
        "\t\t\t\t\texis LIKE any (ARRAY['COM','IND','BUS','AIR','ANIM','BAR','BEAU','DELI','FAC','ASM','ALV%','DOTH','DWC','EDU','FOOD','HCF','HIH','HOS','MIXC','INS','MER','LIB','MNTL','MOB','PUB','STO','UT','VAC','VAL','DFAM'])\n",
        "\t\t\t\t\tAND \n",
        "\t\t\t\t\tprop LIKE any (ARRAY['COM','IND','BUS','AIR','ANIM','BAR','BEAU','DELI','FAC','ASM','ALV%','DOTH','DWC','EDU','FOOD','HCF','HIH','HOS','MIXC','INS','MER','LIB','MNTL','MOB','PUB','STO','UT','DFAM'])\n",
        "\t\t\t\t\tAND \n",
        "\t\t\t\t\ttype1 = ANY (ARRAY['AA','ALT','ADD','NEW'])\n",
        "\t\t\t\t\tand costts >=5000\n",
        "\t\t\t) \n",
        "\t\t\tthen 1\n",
        "\t\t\telse 0\n",
        "\t\t\tend)::numeric as result, csa\n",
        "\t\t\tfrom vital_signs.match_csas_and_bc_by_geom('housing.permits_2016', 'gid', 'the_geom') a\n",
        "\t\t\tleft join housing.permits_2016 b on a.gid = b.gid\n",
        "\t\t\tgroup by csa\n",
        "\t\t\t),\n",
        "\t\t\tdenominator AS (\n",
        "\t\t\t\tselect (sum(\n",
        "\t\t\t\t\tcase \n",
        "\t\t\t\t\twhen (lu like 'C' OR lu LIKE 'EC' OR lu LIKE 'I')\n",
        "\t\t\t\t\tthen 1\n",
        "\t\t\t\t\telse 0\n",
        "\t\t\t\t\tend)::numeric \n",
        "\t\t\t\t) as result, csa\n",
        "\t\t\t\tfrom vital_signs.match_csas_and_bc_by_geom('housing.mdprop_2017', 'gid', 'the_geom') a\n",
        "\t\t\t\tleft join housing.mdprop_2017 b on a.gid = b.gid\n",
        "\t\t\t\tgroup by csa\n",
        "\t\t\t),\n",
        "\t\t\ttbl AS (\n",
        "\t\t\t\t\tselect denominator.csa,(numerator.result / denominator.result)*(100::numeric) as result \n",
        "\t\t\t\t\tfrom numerator left join denominator on numerator.csa = denominator.csa\n",
        "\t\t\t\t)\n",
        "\t\t\tupdate vital_signs.data\n",
        "\t\t\tset crehab = result from tbl where data.csa = tbl.csa and data_year = '2016';"
      ]
    },
    {
      "cell_type": "markdown",
      "metadata": {
        "id": "BBaGjUsPJ1BC"
      },
      "source": [
        "The Above query is bad because we shouldnt filter for new in the type1 column.\n",
        "\n",
        "Also. NO FILTERING ON PROP!"
      ]
    },
    {
      "cell_type": "code",
      "metadata": {
        "id": "lNEasrBEEXlY"
      },
      "source": [
        "permitsCsa.head(1)"
      ],
      "execution_count": null,
      "outputs": []
    },
    {
      "cell_type": "code",
      "metadata": {
        "id": "bQrs6d_mMbcI"
      },
      "source": [
        "# '2-%','3-%','4-%','5-%','6-%','7-%', 'COM','IND','BUS','AIR','ANIM','BAR','BEAU','DELI','FAC','ASM','ALV%','DOTH','DWC','EDU','FOOD','HCF','HIH','HOS','MIXC','INS','MER','LIB','MNTL','MOB','PUB','STO','UT','VAC','VAL','DFAM'\n",
        "# crehab.loc[crehab['existingus'].str.contains('2-|3-|4-|5-|6-|7-|COM|IND|BUS|AIR|ANIM|BAR|BEAU|DELI|FAC|ASM|ALV|DOTH|DWC|EDU|FOOD|HCF|HIH|HOS|MIXC|INS|MER|LIB|MNTL|MOB|PUB|STO|UT|VAC|VAL|DFAM') == True]"
      ],
      "execution_count": null,
      "outputs": []
    },
    {
      "cell_type": "code",
      "metadata": {
        "id": "OIpyeZN2ZJdw"
      },
      "source": [
        "crehab.shape[0]"
      ],
      "execution_count": null,
      "outputs": []
    },
    {
      "cell_type": "code",
      "metadata": {
        "id": "prww38bVFC4f"
      },
      "source": [
        "# get the permits file\n",
        "crehab = permitsCsa.copy() \n",
        "crehab['CSA'] = crehab.CSA.fillna('Baltimore City')\n",
        "crehab['crehab19'] = 1 \n",
        "\n",
        "# Our Column to Sum on\n",
        "crehab['crehab19'] = 1\n",
        "# Filter 1\n",
        "\n",
        "print('No Filter:', crehab.shape[0])\n",
        "print('Filter Cost:', crehab[crehab['cost'] >=5000].cost.shape[0])\n",
        "print('Filter ExistingUse:', crehab.loc[crehab['existingus'].str.contains('2-|3-|4-|5-|6-|7-|COM|IND|BUS|AIR|ANIM|BAR|BEAU|DELI|FAC|ASM|ALV|DOTH|DWC|EDU|FOOD|HCF|HIH|HOS|MIXC|INS|MER|LIB|MNTL|MOB|PUB|STO|UT|VAC|VAL|DFAM') == True].shape[0])\n",
        "# print('Filter Propuse:', crehab.loc[ crehab['propuse'].str.contains('COM|IND|BUS|AIR|ANIM|BAR|BEAU|DELI|FAC|ASM|ALV|DOTH|DWC|EDU|FOOD|HCF|HIH|HOS|MIXC|INS|MER|LIB|MNTL|MOB|PUB|STO|UT|DFAM') == True].shape[0])\n",
        "print('Filter typework:', crehab[  crehab['typework'].isin( ['AA','ALT','ADD'] ) ].shape[0])\n",
        "\n",
        "crehab.loc[ crehab['propuse'].str.contains('COM|IND|BUS|AIR|ANIM|BAR|BEAU|DELI|FAC|ASM|ALV|DOTH|DWC|EDU|FOOD|HCF|HIH|HOS|MIXC|INS|MER|LIB|MNTL|MOB|PUB|STO|UT|DFAM') == True].propuse.unique()\n",
        "\n",
        "crehab = crehab.loc[crehab['existingus'].str.contains('2-|3-|4-|5-|6-|7-|COM|IND|BUS|AIR|ANIM|BAR|BEAU|DELI|FAC|ASM|ALV|DOTH|DWC|EDU|FOOD|HCF|HIH|HOS|MIXC|INS|MER|LIB|MNTL|MOB|PUB|STO|UT|VAC|VAL|DFAM') == True]\n",
        "# crehab = crehab.loc[ crehab['propuse'].str.contains('COM|IND|BUS|AIR|ANIM|BAR|BEAU|DELI|FAC|ASM|ALV|DOTH|DWC|EDU|FOOD|HCF|HIH|HOS|MIXC|INS|MER|LIB|MNTL|MOB|PUB|STO|UT|DFAM') == True]\n",
        "crehab = crehab[ crehab['cost'] >=5000 ]\n",
        "crehab = crehab[  crehab['typework'].isin( ['AA','ALT','ADD'] ) ]\n",
        "crehab.head(1)"
      ],
      "execution_count": null,
      "outputs": []
    },
    {
      "cell_type": "code",
      "metadata": {
        "id": "FavO7zR7PW2m"
      },
      "source": [
        "crehab = crehab.groupby('CSA2010').sum(numeric_only=True) \n",
        "# Make sure ALL csas and BaltimoreCity are included. among other things\n",
        "crehab = csa[ ['CSA2010','tpop10'] ].merge( crehab, left_on='CSA2010', right_on='CSA2010', how='outer' ) \n",
        "# Update the baltimore CSA.\n",
        "crehab.at[55,'crehab19'] = crehab['crehab19'].sum() \n",
        "crehab = crehab[['crehab19', 'CSA2010']]\n",
        "crehab['crehab19'] = crehab['crehab19'] *100 / comprop['comprop19']\n",
        "\n",
        "crehab.head(58)\n",
        "\n",
        "# Create the Indicator\n",
        "crehab.to_csv('142-crehab19-19.csv', index=False) "
      ],
      "execution_count": null,
      "outputs": []
    },
    {
      "cell_type": "code",
      "metadata": {
        "id": "B_7g4vXOPK7Q"
      },
      "source": [
        ""
      ],
      "execution_count": null,
      "outputs": []
    },
    {
      "cell_type": "markdown",
      "metadata": {
        "id": "qvrpq23i3fAm"
      },
      "source": [
        "### Fore 33 - (MdProp, Close Crawl)"
      ]
    },
    {
      "cell_type": "code",
      "metadata": {
        "id": "Nte9-qonf85D"
      },
      "source": [
        "# 33 - fore - percent of properties under mortgage foreclosure\n",
        "\n",
        "# https://services1.arcgis.com/mVFRs7NF4iFitgbY/arcgis/rest/services/Constper/FeatureServer/layers\n",
        "# https://bniajfi.org/indicators/Housing%20And%20Community%20Development/fore\n",
        "\n",
        "# Numerator: foreclosures.foreclosures_201X\n",
        "# Denominator: housing.mdprop_201X\n",
        "# run the 2018 and 2019 crawler first!\n",
        "\n",
        "long_Description: \"\"\"\n",
        "The percentage of properties where the lending company or loan servicer has filed a foreclosure proceeding with the \n",
        "altimore City Circuit Court out of all residential properties within an area. This is not a measure of actual foreclosures \n",
        "since not every property that receives a filing results in a property dispossession.\n",
        "\"\"\"\n",
        "\n",
        "fore_SQL = \"\"\"\n",
        " 2016\n",
        "  with numerator AS (\n",
        "   select (sum( case when csa_present then 1 else NULL end)::numeric) as result, csa\n",
        "    from vital_signs.match_csas_and_bc_by_geom('foreclosures.foreclosures_2016', 'gid', 'the_geom') a\n",
        "      left join foreclosures.foreclosures_2016 b on a.gid = b.gid \n",
        "        group by csa  ),\n",
        "  denominator AS (\n",
        "   select (sum( case when (address != $$NULL$$) \n",
        "      AND (desclu = $$Apartments$$ \n",
        "      OR desclu = $$Residential$$ \n",
        "      OR desclu = $$Residential Commercial$$ \n",
        "      OR desclu = $$Residential Condominium$$) then 1 else NULL end)::numeric  ) as result, csa\n",
        "    from vital_signs.match_csas_and_bc_by_geom('housing.mdprop_2017', 'gid', 'the_geom') a\n",
        "      left join housing.mdprop_2017 b on a.gid = b.gid\n",
        "        group by csa, the_pop  ),\n",
        "  tbl AS (\n",
        "   select denominator.csa,(numerator.result / denominator.result)*(100::numeric) as result \n",
        "   from numerator left join denominator on numerator.csa = denominator.csa  )\n",
        "  update vital_signs.data\n",
        "  set fore = result from tbl where data.csa = tbl.csa and data_year = '2016'; \n",
        "\n",
        " --/* <fore_16 number> */\n",
        "  select(sum( case when csa_present then 1 else NULL end)::numeric) as result, csa\n",
        "   from vital_signs.match_csas_and_bc_by_geom('foreclosures.foreclosures_2016', 'gid', 'the_geom') a\n",
        "     left join foreclosures.foreclosures_2016 b on a.gid = b.gid\n",
        "       group by csa order by csa = 'Baltimore City', csa\n",
        "\n",
        "  WHERE (ooi like 'H') \n",
        "  AND (address != $$NULL$$) \n",
        "  AND (desclu = $$Apartments$$ \n",
        "  OR desclu = $$Residential$$ \n",
        "  OR desclu = $$Residential Commercial$$ \n",
        "  OR desclu = $$Residential Condominium$$\n",
        "  \"\"\"\n",
        "\n",
        "fore_translation = \"( count of closecrawl records per CSA / mdprop_2017.totalres )* 100\""
      ],
      "execution_count": null,
      "outputs": []
    },
    {
      "cell_type": "code",
      "metadata": {
        "id": "STLg373K8peT"
      },
      "source": [
        "# Aggregate Numeric Values by Sum \n",
        "foreclosuresCsa['foreCount'] = 1\n",
        "fore = foreclosuresCsa.groupby('CSA2010').sum(numeric_only=True) \n",
        "fore = fore.reset_index()\n",
        "fore = fore.merge( totalres[ ['CSA2010', 'totalres18'] ], left_on='CSA2010', right_on='CSA2010' ) \n",
        "fore.tail()"
      ],
      "execution_count": null,
      "outputs": []
    },
    {
      "cell_type": "code",
      "metadata": {
        "id": "EGzmAAkj9BNR"
      },
      "source": [
        "# Create the Indicator\n",
        "fore['fore'] = fore['foreCount'] * 100 / fore['totalres18']\n",
        "\n",
        "fore = fore.append({'CSA2010': 'Baltimore City' , \n",
        "                        'foreCount':  fore['foreCount'].sum(), \n",
        "                        'fore' : fore['fore'].sum()/55,\n",
        "                        'totalres18' : 204792}, ignore_index=True)\n",
        "\n",
        "fore = fore[['CSA2010', 'foreCount', 'fore', 'totalres18' ]]\n",
        "\n",
        "fore.to_csv('fore.csv', index=False)\n",
        "\n",
        "fore.tail(60)"
      ],
      "execution_count": null,
      "outputs": []
    },
    {
      "cell_type": "markdown",
      "metadata": {
        "id": "5IId52zH3dS8"
      },
      "source": [
        "### Vacant 34 - (MdProp, Vacants) - DATEABATE, DATECANCLE missing (Is it needed?)"
      ]
    },
    {
      "cell_type": "code",
      "metadata": {
        "id": "PVnHNEAJf37z"
      },
      "source": [
        "# 34- vacant - percentage of residential properties that are vacant and abandoned\n",
        "\n",
        "# https://services1.arcgis.com/mVFRs7NF4iFitgbY/arcgis/rest/services/vacant/FeatureServer/layers \n",
        "\n",
        "# Numerator: housing.vacants_201X\n",
        "# Denominator: housing.mdprop_201X\n",
        "\n",
        "long_Description: \"\"\"\n",
        "The percentage of residential properties that have been classified as being vacant and abandoned by the Baltimore City Department\n",
        " of Housing out of all properties. Properties are classified as being vacant and abandoned if: the property is not habitable and\n",
        "  appears boarded up or open to the elements; the property was designated as being vacant prior to the current year and still\n",
        "   remains vacant; and the property is a multi-family structure where all units are considered to be vacant.\n",
        "\"\"\"\n",
        "\n",
        "vacant_SQL = \"\"\"\n",
        " 2016\n",
        "  with numerator AS (\n",
        "   select (sum( case \n",
        "     when (datenotice between '2004-01-01' and '2016-12-31') AND (dateabate is NULL OR dateabate >= '2016-12-31') AND (datecancel is NULL OR datecancel > '2016-12-31') then 1 else NULL end)::numeric) as result, csa\n",
        "       from vital_signs.match_csas_and_bc_by_geom('housing.vacants_2016', 'gid', 'the_geom') a\n",
        "         left join housing.vacants_2016 b on a.gid = b.gid\n",
        "           group by csa ),\n",
        "  denominator AS (\n",
        "    select (sum(\n",
        "     case \n",
        "     when (address != $$NULL$$) AND (desclu = $$Apartments$$ OR desclu = $$Residential$$ OR desclu = $$Residential Commercial$$ OR desclu = $$Residential Condominium$$)\n",
        "     then 1\n",
        "     else NULL\n",
        "     end)::numeric \n",
        "    ) as result, csa\n",
        "    from vital_signs.match_csas_and_bc_by_geom('housing.mdprop_2017', 'gid', 'the_geom') a\n",
        "    left join housing.mdprop_2017 b on a.gid = b.gid\n",
        "    group by csa, the_pop\n",
        "   ),\n",
        "  tbl AS (\n",
        "     select denominator.csa,(numerator.result / denominator.result)*(100::numeric) as result \n",
        "     from numerator left join denominator on numerator.csa = denominator.csa\n",
        "     )\n",
        "  update vital_signs.data\n",
        "  set vacant = result from tbl where data.csa = tbl.csa and data_year = '2016';\"\n",
        "\n",
        " 2017\n",
        "   with numerator AS (\n",
        "    select (sum( case \n",
        "     when (datenotice between '2004-01-01' and '2017-12-31') AND (dateabate is NULL OR dateabate >= '2017-12-31') AND (datecancel is NULL OR datecancel > '2017-12-31') then 1 else NULL end)::numeric) as result, csa\n",
        "       from vital_signs.match_csas_and_bc_by_geom('housing.vacants_2017', 'gid', 'the_geom') a\n",
        "         left join housing.vacants_2017 b on a.gid = b.gid\n",
        "           group by csa ),\n",
        "   denominator AS (\n",
        "    select (sum( case \n",
        "     when (address != $$NULL$$) AND (desclu = $$Apartments$$ OR desclu = $$Residential$$ OR desclu = $$Residential Commercial$$ OR desclu = $$Residential Condominium$$)\n",
        "       then 1 else NULL end)::numeric ) as result, csa\n",
        "      from vital_signs.match_csas_and_bc_by_geom('housing.mdprop_2017vs', 'gid', 'the_geom') a\n",
        "        left join housing.mdprop_2017vs b on a.gid = b.gid\n",
        "          group by csa, the_pop ),\n",
        "   tbl AS (\n",
        "     select denominator.csa,(numerator.result / denominator.result)*(100::numeric) as result \n",
        "     from numerator left join denominator on numerator.csa = denominator.csa\n",
        "     )\n",
        "   select * from tbl order by csa asc\"\n",
        "   column \"dateabate\" does not exist\n",
        "  \"\"\"\n",
        "\n",
        "vacant_translation = \"\"\"\n",
        "Numerator = sum vacants_2017 when \n",
        "  (datenotice between '2004-01-01' and '2017-12-31') \n",
        "  AND (dateabate is NULL OR dateabate >= '2017-12-31') \n",
        "  AND (datecancel is NULL OR datecancel > '2017-12-31')\n",
        "\n",
        "Denominator =  mdprop_2017.totalres\n",
        "\n",
        "return = (numerator / denominator )* 100\n",
        "\"\"\""
      ],
      "execution_count": null,
      "outputs": []
    },
    {
      "cell_type": "code",
      "metadata": {
        "id": "1rv2BEJ3IIgO"
      },
      "source": [
        "cd ../"
      ],
      "execution_count": null,
      "outputs": []
    },
    {
      "cell_type": "code",
      "metadata": {
        "id": "565KjeR4H9C_"
      },
      "source": [
        "cd 'Vacants and Violations'"
      ],
      "execution_count": null,
      "outputs": []
    },
    {
      "cell_type": "code",
      "metadata": {
        "id": "dzJWI0s9H4WL"
      },
      "source": [
        "ls"
      ],
      "execution_count": null,
      "outputs": []
    },
    {
      "cell_type": "code",
      "metadata": {
        "id": "FS9g4N4hH_3e"
      },
      "source": [
        "ponp_vacants19 = pd.read_csv('Vacants and Violations/ponp_vacants19.csv')"
      ],
      "execution_count": null,
      "outputs": []
    },
    {
      "cell_type": "code",
      "metadata": {
        "id": "ykafZSvIu9Ic"
      },
      "source": [
        "vacantsCsa = ponp_vacants19.copy() \n",
        "vacantsCsa.head(1)"
      ],
      "execution_count": null,
      "outputs": []
    },
    {
      "cell_type": "code",
      "metadata": {
        "id": "AfF2-nXVIkRU"
      },
      "source": [
        "vacantsCsa.dtypes"
      ],
      "execution_count": null,
      "outputs": []
    },
    {
      "cell_type": "code",
      "metadata": {
        "id": "qsa9G76TNtjE"
      },
      "source": [
        "import datetime"
      ],
      "execution_count": null,
      "outputs": []
    },
    {
      "cell_type": "code",
      "metadata": {
        "id": "gjxKemHkyOSQ"
      },
      "source": [
        "vacantsCsa['DateNotice2'] = pd.to_datetime(vacantsCsa['DateNotice'],infer_datetime_format=True)"
      ],
      "execution_count": null,
      "outputs": []
    },
    {
      "cell_type": "code",
      "metadata": {
        "id": "X5y1s7ElvFxf"
      },
      "source": [
        "vacants = vacantsCsa[\n",
        "    ( vacantsCsa['DateNotice2']>=pd.Timestamp(2005,1,1) ) & \n",
        "    ( vacantsCsa['DateNotice2']<=pd.Timestamp(2018,12,31) )\n",
        "]\n",
        "\n",
        "\n",
        "vacants.to_csv('vacants_Filtered_Records.csv', index=False)\n",
        "\n",
        "print( 'Records Matching Query: ', vacants.size / len(vacants.columns) )\n",
        "\n",
        "# Aggregate Numeric Values by Sum \n",
        "vacants['vacantsCount'] = 1\n",
        "vacants = vacants.groupby('CSA2010').sum(numeric_only=True) \n",
        "vacants = vacants.merge( csa[ ['CSA2010'] ], left_on='CSA2010', right_on='CSA2010' ) \n",
        "vacants = vacants.merge( totalres[ ['CSA2010', 'totalres18'] ], left_on='CSA2010', right_on='CSA2010' ) \n",
        "\n",
        "# Create the Indicator\n",
        "vacants['vacants'] = vacants['vacantsCount'] * 100 / totalres['totalres18']\n",
        "\n",
        "# Create Baltimore's Record\n",
        "vacants = vacants.append({'CSA2010': 'Baltimore City' , \n",
        "                            'vacantsCount':  vacants['vacants'].sum(), \n",
        "                            'vacants' : vacants['vacants'].sum()/55,\n",
        "                            'totalres18' : 204792 } , ignore_index=True)\n",
        "\n",
        "vacants = vacants[ ['CSA2010', 'vacantsCount', 'vacants', 'totalres18' ] ]\n",
        "\n",
        "vacants.to_csv('vacants.csv', index=False)\n",
        "\n",
        "vacants.tail(60)"
      ],
      "execution_count": null,
      "outputs": []
    },
    {
      "cell_type": "markdown",
      "metadata": {
        "id": "PMzIRtVn3aaC"
      },
      "source": [
        "### Vio 35 - (MdProp, Violations) - Complete"
      ]
    },
    {
      "cell_type": "code",
      "metadata": {
        "id": "PPumeeFqf0a_"
      },
      "source": [
        "# 35- vio - Percentage of residential properties with housing violations (excluding vacants)\n",
        "\n",
        "# https://services1.arcgis.com/mVFRs7NF4iFitgbY/arcgis/rest/services/vio/FeatureServer/layers\n",
        "\n",
        "# Numerator: housing.violations_thru201X\n",
        "# Denominator: housing.mdprop_201X\n",
        "\n",
        "long_Description: \"\"\"\n",
        "  The percentage of residential properties that have received at least one housing code violation from the Baltimore City \n",
        "  Department of Housing out of all properties. Properties whose façade, structure, and/or surrounding area violate the City's \n",
        "  Housing Code are issued a notice and are considered open till the property is found in compliance. A property may receive multiple violations.\n",
        "  \"\"\"\n",
        "\n",
        "vio_SQL = \"\"\"  \n",
        " 16\n",
        "  with numerator AS (\n",
        "   select (sum( case \n",
        "    when (datenotice between '2016-01-01' and '2016-12-31') \n",
        "    AND (dateabate is NULL OR dateabate >= '2016-12-31') \n",
        "    AND (datecancel is NULL OR datecancel > '2016-12-31')  \n",
        "      then 1 else NULL end)::numeric) as result, csa\n",
        "      from vital_signs.match_csas_and_bc_by_geom('housing.violations_thru2016', 'gid', 'the_geom') a\n",
        "        left join housing.violations_thru2016 b on a.gid = b.gid\n",
        "          group by csa ),\n",
        "  denominator AS (\n",
        "    select (sum( case \n",
        "      when (address != $$NULL$$) \n",
        "        AND (desclu = $$Apartments$$ \n",
        "        OR desclu = $$Residential$$\n",
        "         OR desclu = $$Residential Commercial$$ \n",
        "         OR desclu = $$Residential Condominium$$)\n",
        "        then 1 else NULL end)::numeric ) as result, csa\n",
        "        from vital_signs.match_csas_and_bc_by_geom('housing.mdprop_2017', 'gid', 'the_geom') a\n",
        "          left join housing.mdprop_2017 b on a.gid = b.gid\n",
        "            group by csa, the_pop ),\n",
        "  tbl AS (\n",
        "    select denominator.csa,(numerator.result / denominator.result)*(100::numeric) as result \n",
        "     from numerator left join denominator on numerator.csa = denominator.csa )\n",
        "  update vital_signs.data\n",
        "  set vio = result from tbl where data.csa = tbl.csa and data_year = '2016';\n",
        "   \n",
        " 17\n",
        "  with numerator AS (\n",
        "   select (sum( case \n",
        "     when (datenotice between '2017-01-01' and '2017-12-31') \n",
        "       AND (dateabate is NULL OR dateabate >= '2017-12-31') \n",
        "       AND (datecancel is NULL OR datecancel > '2017-12-31')  \n",
        "       then 1 else NULL end)::numeric) as result, csa\n",
        "       from vital_signs.match_csas_and_bc_by_geom('housing.violations_2017', 'gid', 'the_geom') a\n",
        "         left join housing.violations_2017 b on a.gid = b.gid\n",
        "          group by csa ),\n",
        "  denominator AS (\n",
        "    select (sum( case \n",
        "     when (address != $$NULL$$) \n",
        "       AND (desclu = $$Apartments$$ \n",
        "         OR desclu = $$Residential$$ \n",
        "         OR desclu = $$Residential Commercial$$ \n",
        "         OR desclu = $$Residential Condominium$$)\n",
        "     then 1 else NULL end)::numeric ) as result, csa\n",
        "       from vital_signs.match_csas_and_bc_by_geom('housing.mdprop_2017v2', 'gid', 'the_geom') a\n",
        "         left join housing.mdprop_2017v2 b on a.gid = b.gid\n",
        "           group by csa, the_pop ),\n",
        "  tbl AS (\n",
        "     select denominator.csa,(numerator.result / denominator.result)*(100::numeric) as result \n",
        "     from numerator left join denominator on numerator.csa = denominator.csa ) \n",
        "  select * from tbl where 1 = 1 ORDER BY csa ASC;\"\n",
        "\n",
        "  (datenotice between '2016-01-01' and '2016-12-31') AND (dateabate is NULL OR dateabate >= '2016-12-31') AND (datecancel is NULL OR datecancel > '2016-12-31') \n",
        "  \"\"\"\n",
        "\n",
        "vio_translation = \"\"\"\n",
        "  Numerator = sum violations_2017 when \n",
        "    (datenotice between '2018-01-01' and '2018-12-31') AND \n",
        "    (dateabate is NULL OR dateabate >= '2018-12-31') AND \n",
        "    (datecancel is NULL OR datecancel > '2018-12-31')  \n",
        "    denominator = mdprop_2017.totalres\n",
        "    return = (numerator / denominator )* 100\n",
        "  \"\"\""
      ],
      "execution_count": null,
      "outputs": []
    },
    {
      "cell_type": "code",
      "metadata": {
        "id": "yVYummFZmAhc"
      },
      "source": [
        "# https://stackoverflow.com/questions/29314033/drop-rows-containing-empty-cells-from-a-pandas-dataframe\n",
        "vio = gpd.read_file(\"Violations_20\"+year+\"_CSACity.shp\", geometry='geometry');\n",
        "# print(permitsCsa.crs)\n",
        "# permits = permits.to_crs(epsg=4326)\n",
        "vio['CSA2010'] = vio['CSA']\n",
        "vio['bcitycount'] = 1\n",
        "vio['csacount'] = 1\n",
        "\n",
        "print( vio[vio['BaltCity'].isnull()].CSA.unique() ) \n",
        "vio.head(1)"
      ],
      "execution_count": null,
      "outputs": []
    },
    {
      "cell_type": "code",
      "metadata": {
        "id": "J5Gk2y0JmCOk"
      },
      "source": [
        ""
      ],
      "execution_count": null,
      "outputs": []
    },
    {
      "cell_type": "code",
      "metadata": {
        "id": "Jrumg2YhHQzQ"
      },
      "source": [
        "# replace empty\n",
        "vio['BaltCity'].replace('', np.nan, inplace=True)\n",
        "# drop null\n",
        "vio.dropna(subset=['BaltCity'], inplace=True)\n",
        "\n",
        "vio['DateCancel'] = pd.to_datetime(vio['DateCancel'])\n",
        "vio['DateAbate'] = pd.to_datetime(vio['DateAbate'])\n",
        "vio['DateNotice'] = pd.to_datetime(vio['DateNotice'], errors='coerce')\n",
        "\n",
        "# Numerator\n",
        "vio = vio[['DateNotice', 'DateAbate', 'DateCancel','CSA2010']]\n",
        "vio.head(1)\n",
        "\n",
        "start_date = '20'+year+'-01-01'\n",
        "end_date = '20'+year+'-12-31'\n",
        "\n",
        "mask = vio[ ( vio['DateNotice'] > start_date ) & ( vio['DateNotice'] <= end_date) ]\n",
        "mask1 = mask[ ( pd.isnull( mask['DateAbate'] ) ) | ( mask['DateAbate'] >= end_date ) ]\n",
        "mask2 = mask1[ pd.isnull( mask1['DateCancel'] ) | ( mask1['DateCancel'] > end_date ) ]\n",
        "vio2 = mask2.copy()\n",
        "\n",
        "vio2.to_csv('vio_Filtered_Records.csv', index=False)"
      ],
      "execution_count": null,
      "outputs": []
    },
    {
      "cell_type": "code",
      "metadata": {
        "id": "VhCqhjB9tIeL"
      },
      "source": [
        "print( 'Records Matching Query: ', vio.shape[0] )\n",
        "\n",
        "# Aggregate Numeric Values by Sum \n",
        "vio['vioCount'] = 1\n",
        "vio = vio.groupby('CSA2010').sum(numeric_only=True) \n",
        "vio = vio.reset_index()\n",
        "\n",
        "# Remove the 'False' Records\n",
        "reapp = vio.iloc[-1:]\n",
        "vio = vio.drop( vio.index[-1:] )\n",
        "\n",
        "# Create the Indicator \n",
        "vio['vio'+year] = vio['vioCount'] * 100 / vioDenominator['totalres'+year] \n",
        "\n",
        "# Lets see what we got\n",
        "vio.head(2)\n",
        "vio.tail(2)\n",
        "vio.shape[0]"
      ],
      "execution_count": null,
      "outputs": []
    },
    {
      "cell_type": "code",
      "metadata": {
        "id": "LSsZVPc7uEvj"
      },
      "source": [
        "# Denominator\n",
        "vioDenominator = totalres.copy()\n",
        "vioDenominator = vioDenominator[['totalres'+year,'CSA2010']]\n",
        "\n",
        "vioDenominator.head(2)\n",
        "vioDenominator.shape[0]\n",
        "\n",
        "# Create Baltimore's Record\n",
        "# Ownroc - Baltimore City\t54.6\n",
        "vio = vio.append({'CSA2010': 'Baltimore City' , \n",
        "                            'vioCount':  vio['vio'+year].sum(), \n",
        "                            'vio' : vio['vio'+year].sum()/54.6 } , ignore_index=True)\n",
        "# Reappend the False records\n",
        "vio = vio.append(reapp)\n",
        "\n",
        "# Ensure all CSA's are listed\n",
        "vio = pd.merge(vio,csa,on='CSA2010',how='outer')\n",
        "vio = vio[['CSA2010', 'vioCount', 'vio']]\n",
        "\n",
        "# Save\n",
        "vio.to_csv('vio.csv', index=False)\n",
        "\n",
        "vio.head()\n",
        "vio.tail()"
      ],
      "execution_count": null,
      "outputs": []
    },
    {
      "cell_type": "code",
      "metadata": {
        "id": "YXu-Br4qCtFD"
      },
      "source": [
        "vio[ vio['DateNotice']=='Pigtown Phase 9']"
      ],
      "execution_count": null,
      "outputs": []
    },
    {
      "cell_type": "code",
      "metadata": {
        "id": "uUDTLiZ-YcN4"
      },
      "source": [
        "vio.head(1)"
      ],
      "execution_count": null,
      "outputs": []
    },
    {
      "cell_type": "markdown",
      "metadata": {
        "id": "sfkW3QrQ3YSf"
      },
      "source": [
        "### Resrehab 36 - (MdProp, Permits) - Complete"
      ]
    },
    {
      "cell_type": "code",
      "metadata": {
        "id": "rUFXbmjtfvnk"
      },
      "source": [
        "# 36- resrehab - Percentage of properties with rehabilitation permits exceeding $5k\n",
        "\n",
        "# https://services1.arcgis.com/mVFRs7NF4iFitgbY/arcgis/rest/services/resrehab/FeatureServer/layers\n",
        "\n",
        "# Numerator: housing.permits_201X\n",
        "# Denominator: housing.mdprop_201X\n",
        "\n",
        "long_Description: \"\"\"\n",
        "  The percent of residential properties that have applied for and received a permit to renovate the interior and/or exterior \n",
        "  of a property where the cost of renovation will exceed $5,000. The threshold of $5,000 is used to differentiate a minor \n",
        "  and more significant renovation project.\n",
        "  \"\"\"\n",
        "\n",
        "resrehab_SQL = \"\"\"\n",
        "  2016\n",
        "    with numerator AS (\n",
        "    select sum( case \n",
        "      when (exis = $$SF$$ OR exis = $$MF$$ ) AND (type1 = $$AA$$ OR type1 = $$ADD$$ OR type1 = $$ALT$$) AND (costts >=5000)\n",
        "        then 1 else 0 end)::numeric as result, csa from vital_signs.match_csas_and_bc_by_geom('housing.permits_2016', 'gid', 'the_geom') a\n",
        "        left join housing.permits_2016 b on a.gid = b.gid\n",
        "          group by csa ),\n",
        "    denominator AS (\n",
        "      select (sum( case \n",
        "      when (address != $$NULL$$) AND (desclu = $$Apartments$$ OR desclu = $$Residential$$ OR desclu = $$Residential Commercial$$ OR desclu = $$Residential Condominium$$)\n",
        "        then 1 else NULL end)::numeric ) as result, csa\n",
        "          from vital_signs.match_csas_and_bc_by_geom('housing.mdprop_2017', 'gid', 'the_geom') a\n",
        "            left join housing.mdprop_2017 b on a.gid = b.gid\n",
        "              group by csa, the_pop ),\n",
        "    tbl AS (\n",
        "      select denominator.csa,(numerator.result / denominator.result)*(100::numeric) as result \n",
        "      from numerator left join denominator on numerator.csa = denominator.csa )\n",
        "    update vital_signs.data\n",
        "    set resrehab = result from tbl where data.csa = tbl.csa and data_year = '2016';\"\n",
        "\n",
        "  2017\n",
        "    with numerator AS (\n",
        "    select sum(case \n",
        "      when (existingus = $$SF$$ \n",
        "              OR propuse = $$SF$$ \n",
        "              OR existingus = $$MF$$ \n",
        "              OR propuse = $$MF$$ \n",
        "              OR existingus = $$DFAM$$ \n",
        "              OR propuse = $$DFAM$$ \n",
        "              OR existingus like '%1-%'\n",
        "              OR propuse like '%1-%' \n",
        "            ) \n",
        "            AND casetype LIKE any (ARRAY['COM'])\n",
        "            AND (field22 = $$AA$$ OR field22 = $$ADD$$ OR field22 = $$ALT$$) \n",
        "            AND (cost >=5000) then 1 else 0 end )::numeric as result, csa\n",
        "      from vital_signs.match_csas_and_bc_by_geom('housing.permits_2017', 'gid', 'the_geom') a\n",
        "        left join housing.permits_2017 b on a.gid = b.gid\n",
        "          group by csa ),\n",
        "    denominator AS (\n",
        "    select (sum( case \n",
        "        when (address != $$NULL$$) AND (desclu = $$Apartments$$ OR desclu = $$Residential$$ OR desclu = $$Residential Commercial$$ OR desclu = $$Residential Condominium$$) then 1 else NULL end )::numeric ) as result, csa\n",
        "      from vital_signs.match_csas_and_bc_by_geom('housing.mdprop_2017v2', 'gid', 'the_geom') a\n",
        "        left join housing.mdprop_2017v2 b on a.gid = b.gid\n",
        "          group by csa, the_pop ),\n",
        "    tbl AS (\n",
        "    select denominator.csa,(numerator.result / denominator.result)*(100::numeric) as result \n",
        "      from numerator left join denominator on numerator.csa = denominator.csa )\n",
        "    select * from tbl where 1 = 1 ORDER BY csa ASC;\"\n",
        "\n",
        "    INVALID COLUMN NAMES\n",
        "    \"/* FIELD22: NEW ALT OTH DEM AA ADD */\n",
        "    2016 - > exis, prop, type1, cossts\n",
        "    2017 -> existingus, propuse, field22, cost\n",
        "    \"\"\"\n",
        "\n",
        "resrehab_translation = \"\"\"\n",
        "  Numerator = sum permits_2017 when (\n",
        "              existingus = $$SF$$ OR existingus = $$MF$$ OR existingus = $$DFAM$$ OR existingus like '%1-%'\n",
        "              OR propuse = $$SF$$ OR propuse = $$MF$$ OR propuse = $$DFAM$$ OR propuse like '%1-%' \n",
        "            ) \n",
        "            AND casetype LIKE any (ARRAY['COM'])\n",
        "            AND (field22 = $$AA$$ OR field22 = $$ADD$$ OR field22 = $$ALT$$) \n",
        "            AND (cost >=5000) then 1 else 0 end )\n",
        "  Denominator = mdprop.totalres\n",
        "  return = (numerator / denominator )* 100\n",
        "  \"\"\""
      ],
      "execution_count": null,
      "outputs": []
    },
    {
      "cell_type": "code",
      "metadata": {
        "id": "48PnmtX0RVKU"
      },
      "source": [
        "year\n",
        "totalres.head()"
      ],
      "execution_count": null,
      "outputs": []
    },
    {
      "cell_type": "code",
      "metadata": {
        "id": "g8hBCeeB0bOx"
      },
      "source": [
        "resrehab = permitsCsa\n",
        "resrehab['Field22'] = resrehab['typework']\n",
        "\n",
        "use = \".SF.|.MF.|.DFAM.|.1-.|SF|MF|DFAM|1-.|.1-\" \n",
        "resrehab = resrehab[ \n",
        "  ( permitsCsa['existingus'].str.contains(use, regex=True, na=False) ) & \n",
        "  ( permitsCsa['propuse'].str.contains(use, regex=True, na=False) ) & \n",
        "  ( permitsCsa['casetype'].str.contains('.COM.|COM', regex=True, na=False) ) & \n",
        "  ( permitsCsa['Field22'].str.contains('.AA.|.ADD.|.ALT.|AA|ADD|ALT|ADD', regex=True, na=False) ) & \n",
        "  ( permitsCsa['cost'] >=5000 ) \n",
        "] \n",
        "\n",
        "resrehab.to_csv('resrehab'+year+'_Filtered_Records.csv', index=False)\n",
        "\n",
        "print( 'Records Matching Query: ', resrehab.size / len(resrehab.columns) )\n",
        "\n",
        "# Aggregate Numeric Values by Sum \n",
        "resrehab['resrehabCount'] = 1\n",
        "resrehab = resrehab.groupby('CSA2010').sum(numeric_only=True) \n",
        "\n",
        "# Make sure ALL csas and BaltimoreCity are included. among other things\n",
        "resrehab = totalres[ ['CSA2010','totalres'+year] ].merge( resrehab, left_on='CSA2010', right_on='CSA2010', how='outer' ) \n",
        "\n",
        "# Update the baltimore CSA.\n",
        "resrehab.at[55,'resrehabCount'] = resrehab['resrehabCount'].sum() \n",
        "\n",
        "# Create the Indicator\n",
        "resrehab['resrehab'+year] = resrehab['resrehabCount'] * 100 / totalres['totalres'+year]\n",
        "\n",
        "resrehab = resrehab[ ['CSA2010', 'resrehabCount', 'resrehab'+year, 'totalres'+year ] ]\n",
        "\n",
        "resrehab.to_csv('resrehab'+year+'.csv', index=False)\n",
        "\n",
        "resrehab.head()\n",
        "resrehab.tail()"
      ],
      "execution_count": null,
      "outputs": []
    },
    {
      "cell_type": "markdown",
      "metadata": {
        "id": "vYcquREdhCk2"
      },
      "source": [
        "### 37 - Total Res"
      ]
    },
    {
      "cell_type": "code",
      "metadata": {
        "id": "_J--heYKLHT_"
      },
      "source": [
        "mdprop = gpd.read_file('MDPropertyView_2021_CSACity.shp')\n",
        "mdprop.head()"
      ],
      "execution_count": null,
      "outputs": []
    },
    {
      "cell_type": "code",
      "metadata": {
        "id": "teK29cuFLKeE"
      },
      "source": [
        "mdprop = mdprop.CSA.fillna('Baltimore City')\n",
        "mdprop['totalres19'] = 1\n",
        "mdprop = mdprop[['CSA','totalres20']]\n",
        "mdprop = mdprop.groupby('CSA').sum(numeric_only=True) \n",
        "# Make sure ALL csas and BaltimoreCity are included. among other things\n",
        "mdprop = csa[ ['CSA2010','tpop10'] ].merge( mdprop, left_on='CSA2010', right_on='CSA', how='outer' ) \n",
        "# Update the baltimore CSA.\n",
        "mdprop.at[55,'totalres20'] = mdprop['totalres20'].sum() \n",
        "mdprop.head(58)"
      ],
      "execution_count": null,
      "outputs": []
    },
    {
      "cell_type": "code",
      "metadata": {
        "id": "vI_RO8UY83rJ"
      },
      "source": [
        "# Create the Indicator\n",
        "mdprop.to_csv('37-totalres-19.csv', index=False) "
      ],
      "execution_count": null,
      "outputs": []
    },
    {
      "cell_type": "code",
      "metadata": {
        "id": "rYVgc3UdSFkc"
      },
      "source": [
        "mdprop.CSA.unique()"
      ],
      "execution_count": null,
      "outputs": []
    },
    {
      "cell_type": "markdown",
      "metadata": {
        "id": "473Wzgfs3PkE"
      },
      "source": [
        "### Demper 41 - (MdProp, Permits) - Complete"
      ]
    },
    {
      "cell_type": "code",
      "metadata": {
        "id": "7zwVjcRjfgkp"
      },
      "source": [
        "# 41- demper - number of demolition permits per 1000 residential properties\n",
        "\n",
        "# https://services1.arcgis.com/mVFRs7NF4iFitgbY/arcgis/rest/services/demper/FeatureServer/layers\n",
        "\n",
        "# Numerator: housing.dempermits_201X\n",
        "# Denominator: housing.mdprop_201X\n",
        "\n",
        "long_Description: \"\"\"\n",
        "  The number of permits issued for the demolition of residential buildings per 1,000 existing residential properties. \n",
        "  The permits are analyzed by date of issue and not date of actual demolition.\n",
        "  \"\"\"\n",
        "\n",
        "demper_SQL = \"\"\"\n",
        "  2016\n",
        "    with numerator AS (\n",
        "    select (sum( case \n",
        "      when csa_present then 1 else 0 end)::numeric) as result, csa\n",
        "        from vital_signs.match_csas_and_bc_by_geom('housing.dempermits_2016', 'gid', 'the_geom') a\n",
        "          left join housing.dempermits_2016 b on a.gid = b.gid\n",
        "            group by csa ),\n",
        "    denominator AS (\n",
        "      select (sum(\n",
        "      case \n",
        "      when (address != $$NULL$$) AND (desclu = $$Apartments$$ OR desclu = $$Residential$$ OR desclu = $$Residential Commercial$$ OR desclu = $$Residential Condominium$$)\n",
        "      then 1\n",
        "      else NULL\n",
        "      end)::numeric \n",
        "      ) as result, csa\n",
        "      from vital_signs.match_csas_and_bc_by_geom('housing.mdprop_2017', 'gid', 'the_geom') a\n",
        "      left join housing.mdprop_2017 b on a.gid = b.gid\n",
        "      group by csa, the_pop ),\n",
        "    tbl AS (\n",
        "      select denominator.csa,(numerator.result / denominator.result)*(1000::numeric) as result \n",
        "      from numerator left join denominator on numerator.csa = denominator.csa )\n",
        "    update vital_signs.data\n",
        "    set demper = result from tbl where data.csa = tbl.csa and data_year = '2016'; \"\n",
        "  \n",
        "  2017\n",
        "    with numerator AS (\n",
        "    select (sum( \n",
        "      case \n",
        "        when csa_present AND casetype LIKE any ( ARRAY['DEM'] ) AND planaddres != '' \n",
        "          then 1 else 0\n",
        "            end\n",
        "    )::numeric) as result, csa\n",
        "      from vital_signs.match_csas_and_bc_by_geom('housing.permits_2017', 'gid', 'the_geom') a\n",
        "        left join housing.permits_2017 b on a.gid = b.gid\n",
        "          group by csa ),\n",
        "    denominator AS (\n",
        "    select (sum( case \n",
        "      when (address != $$NULL$$) AND \n",
        "          (desclu = $$Apartments$$ \n",
        "            OR desclu = $$Residential$$ \n",
        "            OR desclu = $$Residential Commercial$$ \n",
        "            OR desclu = $$Residential Condominium$$ \n",
        "      ) then 1 else NULL end )::numeric ) as result, csa\n",
        "        from vital_signs.match_csas_and_bc_by_geom('housing.mdprop_2017v2', 'gid', 'the_geom') a\n",
        "          left join housing.mdprop_2017v2 b on a.gid = b.gid\n",
        "            group by csa, the_pop ),\n",
        "    tbl AS (\n",
        "    select denominator.csa,(numerator.result / denominator.result)*(1000::numeric) as result \n",
        "      from numerator left join denominator on numerator.csa = denominator.csa \n",
        "    select * from tbl where 1 = 1 ORDER BY csa ASC;\"\n",
        "\n",
        "  INVALID COLUMN NAMES\n",
        "  2016 - > exis, prop, type1, cossts\n",
        "  2017 -> existingus, propuse, field22, cost\n",
        "  \"\"\"\n",
        "\n",
        "demper_translation = \"\"\" ( sum permits_2017 when csa_present AND casetype LIKE any ( ARRAY['DEM'] ) AND planaddres != '' / mdprop.totalres )* 1000 \"\"\""
      ],
      "execution_count": null,
      "outputs": []
    },
    {
      "cell_type": "code",
      "metadata": {
        "id": "MFqw42ic0RT2"
      },
      "source": [
        "demper = permitsCsa[ \n",
        "  ( permitsCsa['casetype'].str.contains('DEM|.DEM.|DEM.|.DEM', regex=True, na=False) ) \n",
        "]\n",
        "\n",
        "filter = demper[\"PLANADDRES\"] != \"\"\n",
        "demper = demper[filter]\n",
        "\n",
        "\n",
        "demper.to_csv('demper'+year+'_Filtered_Records.csv', index=False)\n",
        "\n",
        "print( 'Records Matching Query: ', demper.size / len(demper.columns) )\n",
        "\n",
        "\n",
        "# Aggregate Numeric Values by Sum \n",
        "demper['demperCount'] = 1\n",
        "demper = demper.groupby('CSA2010').sum(numeric_only=True) \n",
        "\n",
        "# Make sure ALL csas and BaltimoreCity are included. among other things\n",
        "demper = totalres[ ['CSA2010','totalres'+year] ].merge( demper, left_on='CSA2010', right_on='CSA2010', how='outer' ) \n",
        "\n",
        "# Update the baltimore CSA.\n",
        "demper.at[55,'demperCount'] = demper['demperCount'].sum() \n",
        "\n",
        "# Create the Indicator\n",
        "demper['demper'+year] = demper['demperCount'] * 100 / totalres['totalres'+year]\n",
        "\n",
        "# Create the Indicator\n",
        "demper['demper'+year] = demper['demperCount'] * 1000 / totalres['totalres'+year]\n",
        "\n",
        "demper = demper[['CSA2010', 'demperCount', 'demper'+year, 'totalres'+year ]]\n",
        "\n",
        "demper.to_csv('demper'+year+'.csv', index=False)\n",
        "\n",
        "demper.head()\n",
        "demper.tail()"
      ],
      "execution_count": null,
      "outputs": []
    },
    {
      "cell_type": "markdown",
      "metadata": {
        "id": "YLNNLLgW3MLH"
      },
      "source": [
        "### Constper 42 - (MdProp, Permits) - Complete"
      ]
    },
    {
      "cell_type": "code",
      "metadata": {
        "id": "NTrhWh4tfTsH"
      },
      "source": [
        "# 42- constper - Number of of new constructio permits per 1000 residential properties\n",
        "\n",
        "# https://services1.arcgis.com/mVFRs7NF4iFitgbY/arcgis/rest/services/constper/FeatureServer/layers\n",
        "\n",
        "# Numerator: housing.permits_201X\n",
        "# Denominator: housing.mdprop_201X\n",
        "\n",
        "long_Description: \"\"\"\n",
        "  The number of permits issued for new residential buildings per 1,000 existing residential properties within a community. \n",
        "  The permits are analyzed by date of issue and not date of completion.\n",
        "  \"\"\"\n",
        "\n",
        "constper_SQL = \"\"\"\n",
        " 2016\n",
        "  with numerator as (\n",
        "   select sum( case \n",
        "    when (prop = $$SF$$ OR prop = $$MF$$) AND (type1 = $$NEW$$) then 1 else 0 end)::numeric as result, csa\n",
        "      from vital_signs.match_csas_and_bc_by_geom('housing.permits_2016', 'gid', 'the_geom') a\n",
        "        left join housing.permits_2016 b on a.gid = b.gid\n",
        "          group by csa ),\n",
        "  denominator AS (\n",
        "   select (sum( case \n",
        "    when (address != $$NULL$$) AND (desclu = $$Apartments$$ OR desclu = $$Residential$$ OR desclu = $$Residential Commercial$$ OR desclu = $$Residential Condominium$$)\n",
        "      then 1 else NULL end)::numeric ) as result, csa\n",
        "        from vital_signs.match_csas_and_bc_by_geom('housing.mdprop_2017', 'gid', 'the_geom') a\n",
        "          left join housing.mdprop_2017 b on a.gid = b.gid\n",
        "            group by csa, the_pop ),\n",
        "  tbl AS (\n",
        "   select denominator.csa,(numerator.result / denominator.result)*(1000::numeric) as result \n",
        "   from numerator left join denominator on numerator.csa = denominator.csa )\n",
        "  update vital_signs.data\n",
        "  set constper = result from tbl where data.csa = tbl.csa and data_year = '2016'; \"\n",
        "\n",
        " 2017\n",
        "  with numerator as (\n",
        "   select sum( \n",
        "    case \n",
        "      when (existingus = $$SF$$\n",
        "      OR propuse = $$SF$$\n",
        "      OR existingus = $$MF$$\n",
        "      OR propuse = $$MF$$\n",
        "      OR existingus = $$DFAM$$\n",
        "      OR propuse = $$DFAM$$\n",
        "      OR existingus like '%1-%'\n",
        "      OR propuse like '%1-%'\n",
        "    ) AND (field22 = $$NEW$$)\n",
        "      AND casetype LIKE any ( ARRAY['COM'] ) \n",
        "        then 1 else 0 end )::numeric as result, csa\n",
        "     from vital_signs.match_csas_and_bc_by_geom('housing.permits_2017', 'gid', 'the_geom') a\n",
        "       left join housing.permits_2017 b on a.gid = b.gid\n",
        "         group by csa ),\n",
        "  denominator AS (\n",
        "    select (sum( case \n",
        "      when (address != $$NULL$$) \n",
        "         AND (desclu = $$Apartments$$ \n",
        "            OR desclu = $$Residential$$ \n",
        "            OR desclu = $$Residential Commercial$$ \n",
        "            OR desclu = $$Residential Condominium$$\n",
        "         ) then 1 else NULL end )::numeric ) as result, csa\n",
        "   from vital_signs.match_csas_and_bc_by_geom('housing.mdprop_2017v2', 'gid', 'the_geom') a\n",
        "     left join housing.mdprop_2017v2 b on a.gid = b.gid\n",
        "       group by csa, the_pop ),\n",
        "  tbl AS (\n",
        "    select denominator.csa,(numerator.result / denominator.result)*(1000::numeric) as result \n",
        "    from numerator left join denominator on numerator.csa = denominator.csa )\n",
        "  select * from tbl where 1 = 1 ORDER BY csa ASC;\"\n",
        "\n",
        "  INVALID COLUMN NAMES\n",
        "  2016 - > exis, prop, type1, cossts\n",
        "  2017 -> existingus, propuse, field22, cost\n",
        "  \"\"\"\n",
        "\n",
        "constper_translation = \"\"\"\n",
        "  Numerator = sum permits_2017 when (existingus = $$SF$$ \n",
        "    OR existingus = $$DFAM$$ OR existingus = $$MF$$ OR existingus like '%1-%'\n",
        "    OR propuse = $$SF$$ OR propuse = $$MF$$ OR propuse = $$DFAM$$ OR propuse like '%1-%'\n",
        "    ) \n",
        "    AND (field22 = $$NEW$$)\n",
        "    AND casetype LIKE any ( ARRAY['COM'] ) \n",
        "  Denominator = mdprop.totalres\n",
        "\n",
        "  return = (numerator / Denominator )* 1000\n",
        "  \"\"\""
      ],
      "execution_count": null,
      "outputs": []
    },
    {
      "cell_type": "code",
      "metadata": {
        "id": "dLv_zygNUt5s"
      },
      "source": [
        "# 2018 and 2017 is not working with the new datasets given (CSA LABELS)"
      ],
      "execution_count": null,
      "outputs": []
    },
    {
      "cell_type": "code",
      "metadata": {
        "id": "OLRv-xbdUeIs"
      },
      "source": [
        "permitsCsa.head()"
      ],
      "execution_count": null,
      "outputs": []
    },
    {
      "cell_type": "code",
      "metadata": {
        "id": "iYy6zHbXUpDc"
      },
      "source": [
        "permitsCsa.casetype.unique()"
      ],
      "execution_count": null,
      "outputs": []
    },
    {
      "cell_type": "code",
      "metadata": {
        "id": "-sgEc6gK3WBo"
      },
      "source": [
        "use = \"SF|MF|.SF.|.MF.|.SF|.MF|SF.|MF.\"\n",
        "constper = permitsCsa\n",
        "#constper['Field22'] = constper['typework']\n",
        "constper = constper[ \n",
        "  #( \n",
        "  #    permitsCsa['existingus'].str.contains(use, regex=True, na=False) |\n",
        "  #    permitsCsa['propuse'].str.contains(use, regex=True, na=False)\n",
        "  #) & \n",
        "  #( permitsCsa['casetype'].str.contains('COM|.COM.|COM.|.COM', regex=True, na=False) ) &  \n",
        "  ( permitsCsa['Field22'].str.contains('NEW|.NEW.|NEW.|.NEW', regex=True, na=False) )\n",
        "]\n",
        "\n",
        "filter = constper[\"PLANADDRES\"] != \"\"\n",
        "constper = constper[filter]\n",
        "\n",
        "constper = constper[['CSA2010','existingus','propuse','casetype','Field22','PLANADDRES' ]]\n",
        "\n",
        "constper.to_csv('constper'+year+'_Filtered_Records.csv', index=False)\n",
        "\n",
        "print( 'Records Matching Query: ', constper.size / len(constper.columns) )\n",
        "\n",
        "# Aggregate Numeric Values by Sum \n",
        "constper['constperCount'] = 1\n",
        "constper = constper.groupby('CSA2010').sum(numeric_only=True) \n",
        "\n",
        "# Make sure ALL csas and BaltimoreCity are included. among other things\n",
        "constper = totalres[ ['CSA2010','totalres'+year] ].merge( constper, left_on='CSA2010', right_on='CSA2010', how='outer' ) \n",
        "\n",
        "# Update the baltimore CSA.\n",
        "constper.at[55,'constperCount'] = constper['constperCount'].sum() \n",
        "\n",
        "# Create the Indicator\n",
        "constper['constper'+year] = constper['constperCount'] * 1000 / totalres['totalres'+year]\n",
        "\n",
        "constper.to_csv('constper'+year+'.csv', index=False)\n",
        "\n",
        "constper.head()\n",
        "constper.tail()"
      ],
      "execution_count": null,
      "outputs": []
    },
    {
      "cell_type": "code",
      "metadata": {
        "id": "ZoO_DSIel8Mi"
      },
      "source": [
        ""
      ],
      "execution_count": null,
      "outputs": []
    }
  ]
}