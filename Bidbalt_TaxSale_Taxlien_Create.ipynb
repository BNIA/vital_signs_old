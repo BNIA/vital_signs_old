{
  "nbformat": 4,
  "nbformat_minor": 0,
  "metadata": {
    "colab": {
      "name": "Bidbalt_TaxSale_Taxlien_Create.ipynb",
      "provenance": [],
      "collapsed_sections": [
        "0hHCW-qPMeH6",
        "q8tLzJzcMh74",
        "xTdmo6eOKouA",
        "tNaKIVJbomcd",
        "ujfj67yA0Zqf",
        "D-cCU7os4zus",
        "BVhK9yLN2anO",
        "A4GfAj-B3RhE"
      ],
      "toc_visible": true,
      "authorship_tag": "ABX9TyNA5IbTmuA3X0RNRHyOupVr",
      "include_colab_link": true
    },
    "kernelspec": {
      "name": "python3",
      "display_name": "Python 3"
    }
  },
  "cells": [
    {
      "cell_type": "markdown",
      "metadata": {
        "id": "view-in-github",
        "colab_type": "text"
      },
      "source": [
        "<a href=\"https://colab.research.google.com/github/BNIA/VitalSigns/blob/main/Bidbalt_TaxSale_Taxlien_Create.ipynb\" target=\"_parent\"><img src=\"https://colab.research.google.com/assets/colab-badge.svg\" alt=\"Open In Colab\"/></a>"
      ]
    },
    {
      "cell_type": "markdown",
      "metadata": {
        "id": "_jLE_5-I9HzS"
      },
      "source": [
        "# Housing -> BidBaltimore -> TaxSale -> Taxlien Data Intake and Operations\n",
        "\n",
        "> This notebook uses data to generate a portion of BNIA's Vital Signs report."
      ]
    },
    {
      "cell_type": "markdown",
      "metadata": {
        "id": "iSNOAJoTlQr0"
      },
      "source": [
        "This colab and more can be found at https://github.com/BNIA/colabs.\n"
      ]
    },
    {
      "cell_type": "markdown",
      "metadata": {
        "id": "ukxt0JZCsaxc"
      },
      "source": [
        "## Whats Inside?: "
      ]
    },
    {
      "cell_type": "markdown",
      "metadata": {
        "id": "Jo5GYquJovv-"
      },
      "source": [
        "#### __Indicators Used__\n",
        "\n",
        "- ❌ 40 - __taxlien__ - (MdProp, TaxSale) Percentage of residential tax lien sales"
      ]
    },
    {
      "cell_type": "markdown",
      "metadata": {
        "id": "JNveDD1Ho0mY"
      },
      "source": [
        "#### __Datasets Used__\n",
        "\n",
        "- ✔️ housing.taxsales_201X __(40-taxlien)__ From BidBaltimore"
      ]
    },
    {
      "cell_type": "markdown",
      "metadata": {
        "id": "TK4HOnSWrpy-"
      },
      "source": [
        "#### __Operations Performed__\n",
        "\n",
        "- Reading in data (points/ geoms)\n",
        "-- Convert lat/lng columns to point coordinates\n",
        "-- Geocoding address to coordinates\n",
        "-- Changing coordinate reference systems\n",
        "- Basic Operations\n",
        "- Saving shape data\n",
        "- Get Polygon Centroids\n",
        "- Working with Points and Polygons\n",
        "-- Map Points and Polygons\n",
        "-- Get Points in Polygons\n",
        "-- Create Choropleths\n",
        "-- Create Heatmaps (KDE?)"
      ]
    },
    {
      "cell_type": "markdown",
      "metadata": {
        "id": "0hHCW-qPMeH6"
      },
      "source": [
        "### Import Modules"
      ]
    },
    {
      "cell_type": "code",
      "metadata": {
        "id": "WUvcamATFo4G"
      },
      "source": [
        "%%capture\n",
        "! pip install -U -q PyDrive\n",
        "! pip install geopy\n",
        "! pip install geopandas\n",
        "! pip install geoplot\n",
        "! pip install dataplay\n",
        "! pip install matplotlib\n",
        "! pip install psycopg2-binary"
      ],
      "execution_count": null,
      "outputs": []
    },
    {
      "cell_type": "code",
      "metadata": {
        "id": "r0vkoXtZRdJz"
      },
      "source": [
        "%%capture\n",
        "! apt-get install build-dep python-psycopg2\n",
        "! apt-get install libpq-dev\n",
        "! apt-get install libspatialindex-dev"
      ],
      "execution_count": null,
      "outputs": []
    },
    {
      "cell_type": "code",
      "metadata": {
        "id": "gZ17xjOgR8vg"
      },
      "source": [
        "%%capture\n",
        "!pip install rtree\n",
        "!pip install dexplot"
      ],
      "execution_count": null,
      "outputs": []
    },
    {
      "cell_type": "code",
      "metadata": {
        "id": "w9Mcvm-X0gdo"
      },
      "source": [
        "from dataplay.geoms import workWithGeometryData"
      ],
      "execution_count": null,
      "outputs": []
    },
    {
      "cell_type": "code",
      "metadata": {
        "id": "nNOByHFKFo4m"
      },
      "source": [
        "%%capture \n",
        "# These imports will handle everything\n",
        "import os\n",
        "import sys\n",
        "import csv\n",
        "import matplotlib.pyplot as plt\n",
        "import numpy as np\n",
        "import pandas as pd\n",
        "import geopandas as gpd\n",
        "from geopandas import GeoDataFrame\n",
        "import psycopg2\n",
        "import pyproj\n",
        "from pyproj import Proj, transform\n",
        "# conda install -c conda-forge proj4\n",
        "from shapely.geometry import Point\n",
        "from shapely import wkb\n",
        "from shapely.wkt import loads\n",
        "# https://pypi.org/project/geopy/\n",
        "from geopy.geocoders import Nominatim\n",
        "\n",
        "# In case file is KML, enable support\n",
        "import fiona\n",
        "fiona.drvsupport.supported_drivers['kml'] = 'rw'\n",
        "fiona.drvsupport.supported_drivers['KML'] = 'rw'"
      ],
      "execution_count": null,
      "outputs": []
    },
    {
      "cell_type": "code",
      "metadata": {
        "id": "evj9GJLdSlxF"
      },
      "source": [
        "from IPython.display import clear_output\n",
        "clear_output(wait=True)"
      ],
      "execution_count": null,
      "outputs": []
    },
    {
      "cell_type": "code",
      "metadata": {
        "id": "uTcb3bD84mSA"
      },
      "source": [
        "import ipywidgets as widgets\n",
        "from ipywidgets import interact, interact_manual"
      ],
      "execution_count": null,
      "outputs": []
    },
    {
      "cell_type": "markdown",
      "metadata": {
        "id": "q8tLzJzcMh74"
      },
      "source": [
        "### Configure Enviornment"
      ]
    },
    {
      "cell_type": "code",
      "metadata": {
        "id": "OuH4mBeYCUqU"
      },
      "source": [
        "# This will just beautify the output\n",
        "\n",
        "pd.set_option('display.expand_frame_repr', False)\n",
        "pd.set_option('display.precision', 2)\n",
        "from IPython.core.interactiveshell import InteractiveShell\n",
        "InteractiveShell.ast_node_interactivity = \"all\"\n",
        "\n",
        "# pd.set_option('display.expand_frame_repr', False)\n",
        "# pd.set_option('display.precision', 2)\n",
        "# pd.reset_option('max_colwidth')\n",
        "pd.set_option('max_colwidth', 20)\n",
        "# pd.reset_option('max_colwidth')"
      ],
      "execution_count": null,
      "outputs": []
    },
    {
      "cell_type": "markdown",
      "metadata": {
        "id": "xTdmo6eOKouA"
      },
      "source": [
        "### Taxsales_2019 - BidBaltimore"
      ]
    },
    {
      "cell_type": "code",
      "metadata": {
        "id": "4LoXqoG-URsC"
      },
      "source": [
        "ls"
      ],
      "execution_count": null,
      "outputs": []
    },
    {
      "cell_type": "code",
      "metadata": {
        "id": "pFuaMV6dJgxf"
      },
      "source": [
        "taxSales = gpd.read_file(\"./TaxSales_2019.shp\");"
      ],
      "execution_count": null,
      "outputs": []
    },
    {
      "cell_type": "code",
      "metadata": {
        "id": "8YHQxqtySX4p"
      },
      "source": [
        "# Convert to EPSG:4326\n",
        "taxSales = taxSales.to_crs(epsg=4326)"
      ],
      "execution_count": null,
      "outputs": []
    },
    {
      "cell_type": "code",
      "metadata": {
        "id": "VALeLzqcSX4v"
      },
      "source": [
        "# Convert Geom to Coords\n",
        "\n",
        "taxSales['x'] = taxSales.geometry.x\n",
        "taxSales['y'] = taxSales.geometry.y\n",
        "# taxSales.head(5)\n",
        "\n",
        "taxSales = taxSales[ taxSales.geometry.y > 38 ]\n",
        "taxSales = taxSales[ taxSales.geometry.x < -70 ]\n",
        "taxSales = taxSales[ taxSales.geometry.x > -80 ]"
      ],
      "execution_count": null,
      "outputs": []
    },
    {
      "cell_type": "code",
      "metadata": {
        "id": "u23DRwkWSX42"
      },
      "source": [
        "# Reference: All Points\n",
        "base = csa.plot(color='white', edgecolor='black')\n",
        "taxSales.plot(ax=base, marker='o', color='green', markersize=5);"
      ],
      "execution_count": null,
      "outputs": []
    },
    {
      "cell_type": "code",
      "metadata": {
        "id": "cYTnnGKcSX47"
      },
      "source": [
        "# Get CSA Labels for all Points.\n",
        "taxSalesCsa = workWithGeometryData( \n",
        "     method='ponp', df=taxSales, polys=csa, ptsCoordCol='geometry', \n",
        "     polygonsCoordCol='geometry', polygonsLabel='CSA2010'\n",
        ")\n",
        "taxSalesCsa = taxSalesCsa.drop('geometry',axis=1)\n",
        "taxSalesCsa.to_csv('ponp_taxSales_19.csv', index=False)\n",
        "taxSalesCsa.head(10)"
      ],
      "execution_count": null,
      "outputs": []
    },
    {
      "cell_type": "markdown",
      "metadata": {
        "id": "tNaKIVJbomcd"
      },
      "source": [
        "### Taxsales_2018 - BidBaltimore"
      ]
    },
    {
      "cell_type": "code",
      "metadata": {
        "id": "LquqdEIfomce"
      },
      "source": [
        "ls"
      ],
      "execution_count": null,
      "outputs": []
    },
    {
      "cell_type": "code",
      "metadata": {
        "id": "UuJgfb7womce"
      },
      "source": [
        "taxSales = gpd.read_file(\"./TaxSales_2018.shp\");"
      ],
      "execution_count": null,
      "outputs": []
    },
    {
      "cell_type": "code",
      "metadata": {
        "id": "Bz34OBuzomcf"
      },
      "source": [
        "# Convert to EPSG:4326\n",
        "taxSales = taxSales.to_crs(epsg=4326)"
      ],
      "execution_count": null,
      "outputs": []
    },
    {
      "cell_type": "code",
      "metadata": {
        "id": "8Z5AhwYromcf"
      },
      "source": [
        "# Convert Geom to Coords\n",
        "\n",
        "taxSales['x'] = taxSales.geometry.x\n",
        "taxSales['y'] = taxSales.geometry.y\n",
        "# taxSales.head(5)\n",
        "\n",
        "taxSales = taxSales[ taxSales.geometry.y > 38 ]\n",
        "taxSales = taxSales[ taxSales.geometry.x < -70 ]\n",
        "taxSales = taxSales[ taxSales.geometry.x > -80 ]"
      ],
      "execution_count": null,
      "outputs": []
    },
    {
      "cell_type": "code",
      "metadata": {
        "id": "M2jAzArNomcg"
      },
      "source": [
        "# Reference: All Points\n",
        "base = csa.plot(color='white', edgecolor='black')\n",
        "taxSales.plot(ax=base, marker='o', color='green', markersize=5);"
      ],
      "execution_count": null,
      "outputs": []
    },
    {
      "cell_type": "code",
      "metadata": {
        "id": "B1ibFNGComcg"
      },
      "source": [
        "# Get CSA Labels for all Points.\n",
        "taxSalesCsa18 = workWithGeometryData( \n",
        "     method='ponp', df=taxSales, polys=csa, ptsCoordCol='geometry', \n",
        "     polygonsCoordCol='geometry', polygonsLabel='CSA2010'\n",
        ")\n",
        "taxSalesCsa18 = taxSalesCsa18.drop('geometry',axis=1)\n",
        "taxSalesCsa18.to_csv('ponp_taxSales_18.csv', index=False)\n",
        "taxSalesCsa18.head(10)"
      ],
      "execution_count": null,
      "outputs": []
    },
    {
      "cell_type": "markdown",
      "metadata": {
        "id": "ujfj67yA0Zqf"
      },
      "source": [
        "### CSA Bounds"
      ]
    },
    {
      "cell_type": "code",
      "metadata": {
        "id": "_M9baDDjkyca"
      },
      "source": [
        "import os, ssl\n",
        "if (not os.environ.get('PYTHONHTTPSVERIFY', '') and\n",
        "getattr(ssl, '_create_unverified_context', None)):\n",
        "    ssl._create_default_https_context = ssl._create_unverified_context"
      ],
      "execution_count": null,
      "outputs": []
    },
    {
      "cell_type": "code",
      "metadata": {
        "id": "EWg9TIH10SQg"
      },
      "source": [
        "csa = \"https://services1.arcgis.com/mVFRs7NF4iFitgbY/ArcGIS/rest/services/Ownroc/FeatureServer/0/query?where=1%3D1&objectIds=&time=&geometry=&geometryType=esriGeometryEnvelope&inSR=&spatialRel=esriSpatialRelIntersects&resultType=none&distance=0.0&units=esriSRUnit_Meter&returnGeodetic=false&outFields=ownroc18%2C+CSA2010&returnGeometry=true&returnCentroid=false&featureEncoding=esriDefault&multipatchOption=xyFootprint&maxAllowableOffset=&geometryPrecision=&outSR=&datumTransformation=&applyVCSProjection=false&returnIdsOnly=false&returnUniqueIdsOnly=false&returnCountOnly=false&returnExtentOnly=false&returnQueryGeometry=false&returnDistinctValues=false&cacheHint=false&orderByFields=&groupByFieldsForStatistics=&outStatistics=&having=&resultOffset=&resultRecordCount=&returnZ=false&returnM=false&returnExceededLimitFeatures=true&quantizationParameters=&sqlFormat=none&f=pgeojson&token=\"\n",
        "\n",
        "csa = gpd.read_file(csa);"
      ],
      "execution_count": null,
      "outputs": []
    },
    {
      "cell_type": "code",
      "metadata": {
        "id": "UkAz7OW76mqb"
      },
      "source": [
        "csa.head()"
      ],
      "execution_count": null,
      "outputs": []
    },
    {
      "cell_type": "code",
      "metadata": {
        "id": "aXdR3IXQ6lsb"
      },
      "source": [
        "csa.plot()"
      ],
      "execution_count": null,
      "outputs": []
    },
    {
      "cell_type": "markdown",
      "metadata": {
        "id": "D-cCU7os4zus"
      },
      "source": [
        "### Mdprop - totalRes"
      ]
    },
    {
      "cell_type": "markdown",
      "metadata": {
        "id": "adWpvpT4vyWl"
      },
      "source": [
        "https://dev.bniajfi.org/indicators/Housing%20And%20Community%20Development/ownroc/2018\n",
        "\n",
        "Baltimore City - 54.6"
      ]
    },
    {
      "cell_type": "code",
      "metadata": {
        "id": "Ptfhaz_kts5s"
      },
      "source": [
        "# total residential properties -> [totalres](https://bniajfi.org/indicators/Housing%20And%20Community%20Development/totalres)\n",
        "\n",
        "totalresThatWasBroken = \"https://services1.arcgis.com/mVFRs7NF4iFitgbY/ArcGIS/rest/services/Totalres/FeatureServer/0/query?where=1%3D1&objectIds=&time=&geometry=&geometryType=esriGeometryEnvelope&inSR=&spatialRel=esriSpatialRelIntersects&resultType=none&distance=0.0&units=esriSRUnit_Meter&returnGeodetic=false&outFields=totalres19%2C+CSA2010&returnGeometry=true&returnCentroid=false&featureEncoding=esriDefault&multipatchOption=xyFootprint&maxAllowableOffset=&geometryPrecision=&outSR=&datumTransformation=&applyVCSProjection=false&returnIdsOnly=false&returnUniqueIdsOnly=false&returnCountOnly=false&returnExtentOnly=false&returnQueryGeometry=false&returnDistinctValues=false&cacheHint=false&orderByFields=&groupByFieldsForStatistics=&outStatistics=&having=&resultOffset=&resultRecordCount=&returnZ=false&returnM=false&returnExceededLimitFeatures=true&quantizationParameters=&sqlFormat=none&f=pgeojson&token=\"\n",
        "totalres = 'https://services1.arcgis.com/mVFRs7NF4iFitgbY/ArcGIS/rest/services/Totalres/FeatureServer/0/query?where=1%3D1&objectIds=&time=&geometry=&geometryType=esriGeometryEnvelope&inSR=&spatialRel=esriSpatialRelIntersects&resultType=none&distance=0.0&units=esriSRUnit_Meter&returnGeodetic=false&outFields=*&returnGeometry=false&returnCentroid=false&featureEncoding=esriDefault&multipatchOption=xyFootprint&maxAllowableOffset=&geometryPrecision=&outSR=&datumTransformation=&applyVCSProjection=false&returnIdsOnly=false&returnUniqueIdsOnly=false&returnCountOnly=false&returnExtentOnly=false&returnQueryGeometry=false&returnDistinctValues=false&cacheHint=false&orderByFields=&groupByFieldsForStatistics=&outStatistics=&having=&resultOffset=&resultRecordCount=&returnZ=false&returnM=false&returnExceededLimitFeatures=true&quantizationParameters=&sqlFormat=none&f=pgeojson&token='\n",
        "totalres = gpd.read_file(totalres); # Has ACS 17 Queries, including tpop17 (we want tpop10).\n",
        "totalres.head()"
      ],
      "execution_count": null,
      "outputs": []
    },
    {
      "cell_type": "markdown",
      "metadata": {
        "id": "BVhK9yLN2anO"
      },
      "source": [
        "### Ponp_Taxsales"
      ]
    },
    {
      "cell_type": "code",
      "metadata": {
        "id": "iZplw0k12gtk"
      },
      "source": [
        "df18 = pd.read_csv('ponp_taxSales_18.csv')\n",
        "df19 = pd.read_csv('ponp_taxSales_19.csv')"
      ],
      "execution_count": null,
      "outputs": []
    },
    {
      "cell_type": "markdown",
      "metadata": {
        "id": "A4GfAj-B3RhE"
      },
      "source": [
        "### Taxlien 40 - (MdProp, TaxSale) "
      ]
    },
    {
      "cell_type": "code",
      "metadata": {
        "id": "gR5_JrgrfkKA"
      },
      "source": [
        "# 40- taxlien - Percentage of residential tax lien sales\n",
        "\n",
        "# https://services1.arcgis.com/mVFRs7NF4iFitgbY/arcgis/rest/services/taxlien/FeatureServer/layers\n",
        "# https://bniajfi.org/indicators/Housing%20And%20Community%20Development/taxlien\n",
        "\n",
        "# Numerator: housing.taxsales_201X\n",
        "# Denominator: housing.mdprop_201X\n",
        "\n",
        "long_Description: \"\"\"\n",
        "The percentage of residential properties with city liens sold as tax certificates at the annual tax lien certificate sale held in May. \n",
        "Tax sales are used to collect delinquent real property taxes and other unpaid charges to the city, which are liens against the real property.\n",
        "The tax certificate sale is a public online auction of City lien interests on properties that occurs annually in May.\n",
        "\"\"\"\n",
        "\n",
        "taxlien_SQL = \"\"\"\n",
        " 2017 Query\n",
        "  WITH numerator AS ( \n",
        "   select (sum( case \n",
        "    when csa_present\n",
        "   then 1 else 0 end)::numeric) as result, csa\n",
        "    from vital_signs.match_csas_and_bc_by_geom('housing.taxsales_2017', 'gid', 'the_geom') a\n",
        "      left join housing.taxsales_2017 b on a.gid = b.gid\n",
        "        group by csa ), \n",
        "  denominator AS (\n",
        "   select (sum( case \n",
        "    when (address != $$NULL$$) AND (desclu = $$Apartments$$ OR desclu = $$Residential$$ OR desclu = $$Residential Commercial$$ OR desclu = $$Residential Condominium$$) then 1 else NULL end)::numeric ) as result, csa\n",
        "      from vital_signs.match_csas_and_bc_by_geom('housing.mdprop_2017', 'gid', 'the_geom') a\n",
        "        left join housing.mdprop_2017 b on a.gid = b.gid\n",
        "          group by csa, the_pop ),\n",
        "  tbl AS (\n",
        "   select denominator.csa,(numerator.result / denominator.result)*(100::numeric) as result \n",
        "   from numerator left join denominator on numerator.csa = denominator.csa )\n",
        "  select * from tbl where 1 = 1 ORDER BY csa ASC;\"\n",
        "\n",
        " 2016 query\n",
        "  WITH numerator AS ( select (sum( case \n",
        "   when csa_present then 1 else 0 end)::numeric) as result, csa\n",
        "      from vital_signs.match_csas_and_bc_by_geom('housing.taxsales_2016', 'gid', 'the_geom') a\n",
        "        left join housing.taxsales_2016 b on a.gid = b.gid\n",
        "          group by csa ),\n",
        "  denominator AS (\n",
        "   select (sum( case \n",
        "    when (address != $$NULL$$) AND (desclu = $$Apartments$$ OR desclu = $$Residential$$ OR desclu = $$Residential Commercial$$ OR desclu = $$Residential Condominium$$) then 1 else NULL end)::numeric ) as result, csa\n",
        "      from vital_signs.match_csas_and_bc_by_geom('housing.mdprop_2017', 'gid', 'the_geom') a\n",
        "        left join housing.mdprop_2017 b on a.gid = b.gid\n",
        "          group by csa, the_pop ),\n",
        "  tbl AS (\n",
        "   select denominator.csa,(numerator.result / denominator.result)*(100::numeric) as result \n",
        "   from numerator left join denominator on numerator.csa = denominator.csa )\n",
        "  update vital_signs.data\n",
        "  set taxlien = result from tbl where data.csa = tbl.csa and data_year = '2016'; \n",
        "  \"\"\"\n",
        "\n",
        "taxlien_translation = \" (sum taxsales_2017 when csa_present / mdprop.totalres )* 100 \""
      ],
      "execution_count": null,
      "outputs": []
    },
    {
      "cell_type": "code",
      "metadata": {
        "id": "qHDkM7F15cfd"
      },
      "source": [
        "totalres.set_index('CSA2010', inplace=True)\n",
        "totalres.head(1)"
      ],
      "execution_count": null,
      "outputs": []
    },
    {
      "cell_type": "code",
      "metadata": {
        "id": "wIfAtfOG13SP"
      },
      "source": [
        "taxlien18 = df18.drop(['X', 'Y', 'x', 'y'], axis=1).copy()\n",
        "taxlien18.head(2)"
      ],
      "execution_count": null,
      "outputs": []
    },
    {
      "cell_type": "code",
      "metadata": {
        "id": "gcP6owJA5G8e"
      },
      "source": [
        "taxlien19 = df19.drop(['X', 'Y', 'x', 'y'], axis=1).copy()\n",
        "taxlien19.head(2)"
      ],
      "execution_count": null,
      "outputs": []
    },
    {
      "cell_type": "code",
      "metadata": {
        "id": "_gaMG5y45njy"
      },
      "source": [
        "taxlien18['taxlien18Count'] = 1\n",
        "taxlien19['taxlien19Count'] = 1\n",
        "taxlien = taxlien19.groupby('CSA2010').sum(numeric_only=True) \n",
        "taxlien['taxlien18Count'] = taxlien18.groupby('CSA2010').sum(numeric_only=True)['taxlien18Count']\n",
        "taxlien = taxlien[['taxlien18Count', 'taxlien19Count']]\n",
        "taxlien['totalres18'] = totalres['totalres18']\n",
        "taxlien.head(1)"
      ],
      "execution_count": null,
      "outputs": []
    },
    {
      "cell_type": "code",
      "metadata": {
        "id": "Q2xvObIe67_5"
      },
      "source": [
        "# DOES 2019 use the same denominator as 2018 as 2017?\n",
        "taxlien['totalres19'] = taxlien['totalres18']"
      ],
      "execution_count": null,
      "outputs": []
    },
    {
      "cell_type": "code",
      "metadata": {
        "id": "PdlVNCVG6T_M"
      },
      "source": [
        "taxlien['taxlien18'] = taxlien['taxlien18Count'] / taxlien['totalres18'] * 100\n",
        "taxlien['taxlien19'] = taxlien['taxlien19Count'] / taxlien['totalres19'] * 100"
      ],
      "execution_count": null,
      "outputs": []
    },
    {
      "cell_type": "code",
      "metadata": {
        "id": "xvZHaIFa8JZn"
      },
      "source": [
        "taxlien = taxlien.reset_index()[['CSA2010', 'taxlien18', 'taxlien19']]"
      ],
      "execution_count": null,
      "outputs": []
    },
    {
      "cell_type": "code",
      "metadata": {
        "id": "1C_YaQW88jmY"
      },
      "source": [
        "taxlien.head()"
      ],
      "execution_count": null,
      "outputs": []
    },
    {
      "cell_type": "code",
      "metadata": {
        "id": "3J4Gle5y_Upc"
      },
      "source": [
        "taxlien.tail()"
      ],
      "execution_count": null,
      "outputs": []
    },
    {
      "cell_type": "code",
      "metadata": {
        "id": "yPSSXXVq9MAz"
      },
      "source": [
        "# Create Baltimore's Record\n",
        "\n",
        "# Remove the 'False' Records\n",
        "reapp = taxlien.loc[55]"
      ],
      "execution_count": null,
      "outputs": []
    },
    {
      "cell_type": "code",
      "metadata": {
        "id": "K13UT-JS9SIA"
      },
      "source": [
        "taxlien = taxlien.drop([55])\n",
        "taxlien.tail()"
      ],
      "execution_count": null,
      "outputs": []
    },
    {
      "cell_type": "code",
      "metadata": {
        "id": "SDWdwRq89PNS"
      },
      "source": [
        "taxlien = taxlien.append({'CSA2010': 'Baltimore City' , 'taxlien18' : taxlien['taxlien18'].sum()/55, 'taxlien19' : taxlien['taxlien19'].sum()/55 } , ignore_index=True)\n",
        "taxlien.tail()"
      ],
      "execution_count": null,
      "outputs": []
    },
    {
      "cell_type": "code",
      "metadata": {
        "id": "57uXZEY1_44b"
      },
      "source": [
        "# Reappend the False records\n",
        "taxlien = taxlien.append(reapp)"
      ],
      "execution_count": null,
      "outputs": []
    },
    {
      "cell_type": "code",
      "metadata": {
        "id": "XDw14Iup82EO"
      },
      "source": [
        "taxlien.head()"
      ],
      "execution_count": null,
      "outputs": []
    },
    {
      "cell_type": "code",
      "metadata": {
        "id": "KtrxwkNy82EV"
      },
      "source": [
        "taxlien.tail()"
      ],
      "execution_count": null,
      "outputs": []
    },
    {
      "cell_type": "code",
      "metadata": {
        "id": "O7TG_9RC_45I"
      },
      "source": [
        "taxlien.to_csv('taxlien_18_19.csv', index=False)\n",
        "\n",
        "print( 'Records Matching Query: ', taxlien.size / len(taxlien.columns) )"
      ],
      "execution_count": null,
      "outputs": []
    },
    {
      "cell_type": "code",
      "metadata": {
        "id": "jweW9vRS7726"
      },
      "source": [
        ""
      ],
      "execution_count": null,
      "outputs": []
    }
  ]
}